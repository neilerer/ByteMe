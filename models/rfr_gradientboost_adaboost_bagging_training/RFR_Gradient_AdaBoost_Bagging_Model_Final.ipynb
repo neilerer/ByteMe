{
 "cells": [
  {
   "cell_type": "code",
   "execution_count": 389,
   "metadata": {},
   "outputs": [],
   "source": [
    "import pandas as pd \n",
    "import numpy as np \n",
    "import matplotlib.pyplot as plt \n",
    "import matplotlib.patches as mpatches\n",
    "import seaborn as sns\n",
    "from patsy import dmatrices\n",
    "from sklearn.linear_model import LogisticRegression\n",
    "from sklearn.cross_validation import train_test_split\n",
    "from sklearn import metrics\n",
    "from sklearn.cross_validation import cross_val_score\n",
    "from matplotlib.backends.backend_pdf import PdfPages \n",
    "\n",
    "from sklearn.tree import export_graphviz\n",
    "from sklearn.tree import DecisionTreeClassifier\n",
    "from sklearn.ensemble import RandomForestClassifier\n",
    "from sklearn.ensemble import RandomForestRegressor\n",
    "\n",
    "from sklearn.model_selection import train_test_split, GridSearchCV\n",
    "from sklearn.preprocessing import OneHotEncoder, StandardScaler, RobustScaler\n",
    "from sklearn.metrics import mean_squared_error, median_absolute_error, mean_absolute_error\n",
    "from sklearn.metrics import r2_score, explained_variance_score\n",
    "\n",
    "from sklearn.ensemble import GradientBoostingRegressor, RandomForestRegressor\n",
    "from sklearn.ensemble import BaggingRegressor, AdaBoostRegressor, ExtraTreesRegressor\n",
    "\n",
    "from sklearn.neighbors import KNeighborsRegressor, RadiusNeighborsRegressor\n",
    "from sklearn.tree import DecisionTreeRegressor\n",
    "\n",
    "from sklearn.linear_model import LinearRegression, SGDRegressor\n",
    "from sklearn.linear_model import Ridge, RidgeCV, BayesianRidge\n",
    "from sklearn.linear_model import HuberRegressor, TheilSenRegressor, RANSACRegressor\n",
    "\n",
    "from sklearn.neural_network import MLPRegressor\n",
    "\n",
    "from numpy import loadtxt\n",
    "from sklearn.ensemble import GradientBoostingRegressor as gBR\n",
    "from sklearn.model_selection import train_test_split\n",
    "from sklearn.metrics import accuracy_score\n",
    "\n",
    "import os\n",
    "import gmplot\n",
    "import gmaps\n",
    "import time, datetime\n",
    "%matplotlib inline"
   ]
  },
  {
   "cell_type": "code",
   "execution_count": 390,
   "metadata": {
    "collapsed": true
   },
   "outputs": [],
   "source": [
    "def date_from_line(line):\n",
    "    \"\"\"returns DDMMYYYY from line in data file\"\"\"\n",
    "    if int(line['Day'])<10:\n",
    "        day='0'+str(line['Day'])\n",
    "    else:\n",
    "        day=str(line['Day'])\n",
    "    if int(line[1])<10:\n",
    "        month='0'+str(line['Month'])\n",
    "    else:\n",
    "        month=str(line['Month'])\n",
    "    return day+month+str(line['Year'])"
   ]
  },
  {
   "cell_type": "markdown",
   "metadata": {},
   "source": [
    "# USING ROUTE 00010001 DATA ONLY, 2 months"
   ]
  },
  {
   "cell_type": "code",
   "execution_count": 391,
   "metadata": {},
   "outputs": [
    {
     "name": "stdout",
     "output_type": "stream",
     "text": [
      "C:\\Users\\Cara\\Documents\\COMPSCI\\1A_PRACTICUM\\Notebooks\n"
     ]
    },
    {
     "data": {
      "text/html": [
       "<div>\n",
       "<style>\n",
       "    .dataframe thead tr:only-child th {\n",
       "        text-align: right;\n",
       "    }\n",
       "\n",
       "    .dataframe thead th {\n",
       "        text-align: left;\n",
       "    }\n",
       "\n",
       "    .dataframe tbody tr th {\n",
       "        vertical-align: top;\n",
       "    }\n",
       "</style>\n",
       "<table border=\"1\" class=\"dataframe\">\n",
       "  <thead>\n",
       "    <tr style=\"text-align: right;\">\n",
       "      <th></th>\n",
       "      <th>Year</th>\n",
       "      <th>Month</th>\n",
       "      <th>Day</th>\n",
       "      <th>Hours</th>\n",
       "      <th>Minute</th>\n",
       "      <th>Second</th>\n",
       "      <th>WeekDay</th>\n",
       "      <th>Timestamp</th>\n",
       "      <th>JourneyPatternID</th>\n",
       "      <th>VehicleJourneyID</th>\n",
       "      <th>StopID</th>\n",
       "      <th>Temperature (C)</th>\n",
       "      <th>Visibility (km)</th>\n",
       "      <th>Wind Speed (km/h)</th>\n",
       "      <th>Cumulative Time Taken</th>\n",
       "      <th>StopSeq</th>\n",
       "    </tr>\n",
       "  </thead>\n",
       "  <tbody>\n",
       "    <tr>\n",
       "      <th>0</th>\n",
       "      <td>2012</td>\n",
       "      <td>11</td>\n",
       "      <td>6</td>\n",
       "      <td>8</td>\n",
       "      <td>59</td>\n",
       "      <td>2</td>\n",
       "      <td>1</td>\n",
       "      <td>1352192342</td>\n",
       "      <td>10001</td>\n",
       "      <td>5461</td>\n",
       "      <td>226</td>\n",
       "      <td>7</td>\n",
       "      <td>10</td>\n",
       "      <td>29.6</td>\n",
       "      <td>0</td>\n",
       "      <td>0</td>\n",
       "    </tr>\n",
       "    <tr>\n",
       "      <th>1</th>\n",
       "      <td>2012</td>\n",
       "      <td>11</td>\n",
       "      <td>6</td>\n",
       "      <td>9</td>\n",
       "      <td>4</td>\n",
       "      <td>41</td>\n",
       "      <td>1</td>\n",
       "      <td>1352192681</td>\n",
       "      <td>10001</td>\n",
       "      <td>5461</td>\n",
       "      <td>231</td>\n",
       "      <td>8</td>\n",
       "      <td>10</td>\n",
       "      <td>31.5</td>\n",
       "      <td>339</td>\n",
       "      <td>5</td>\n",
       "    </tr>\n",
       "    <tr>\n",
       "      <th>2</th>\n",
       "      <td>2012</td>\n",
       "      <td>11</td>\n",
       "      <td>6</td>\n",
       "      <td>9</td>\n",
       "      <td>6</td>\n",
       "      <td>22</td>\n",
       "      <td>1</td>\n",
       "      <td>1352192782</td>\n",
       "      <td>10001</td>\n",
       "      <td>5461</td>\n",
       "      <td>1641</td>\n",
       "      <td>8</td>\n",
       "      <td>10</td>\n",
       "      <td>31.5</td>\n",
       "      <td>440</td>\n",
       "      <td>6</td>\n",
       "    </tr>\n",
       "    <tr>\n",
       "      <th>3</th>\n",
       "      <td>2012</td>\n",
       "      <td>11</td>\n",
       "      <td>6</td>\n",
       "      <td>9</td>\n",
       "      <td>7</td>\n",
       "      <td>58</td>\n",
       "      <td>1</td>\n",
       "      <td>1352192878</td>\n",
       "      <td>10001</td>\n",
       "      <td>5461</td>\n",
       "      <td>1642</td>\n",
       "      <td>8</td>\n",
       "      <td>10</td>\n",
       "      <td>31.5</td>\n",
       "      <td>536</td>\n",
       "      <td>7</td>\n",
       "    </tr>\n",
       "    <tr>\n",
       "      <th>4</th>\n",
       "      <td>2012</td>\n",
       "      <td>11</td>\n",
       "      <td>6</td>\n",
       "      <td>9</td>\n",
       "      <td>15</td>\n",
       "      <td>42</td>\n",
       "      <td>1</td>\n",
       "      <td>1352193342</td>\n",
       "      <td>10001</td>\n",
       "      <td>5461</td>\n",
       "      <td>47</td>\n",
       "      <td>8</td>\n",
       "      <td>10</td>\n",
       "      <td>31.5</td>\n",
       "      <td>1000</td>\n",
       "      <td>15</td>\n",
       "    </tr>\n",
       "    <tr>\n",
       "      <th>5</th>\n",
       "      <td>2012</td>\n",
       "      <td>11</td>\n",
       "      <td>6</td>\n",
       "      <td>9</td>\n",
       "      <td>18</td>\n",
       "      <td>1</td>\n",
       "      <td>1</td>\n",
       "      <td>1352193481</td>\n",
       "      <td>10001</td>\n",
       "      <td>5461</td>\n",
       "      <td>49</td>\n",
       "      <td>7</td>\n",
       "      <td>10</td>\n",
       "      <td>27.8</td>\n",
       "      <td>1139</td>\n",
       "      <td>17</td>\n",
       "    </tr>\n",
       "    <tr>\n",
       "      <th>6</th>\n",
       "      <td>2012</td>\n",
       "      <td>11</td>\n",
       "      <td>6</td>\n",
       "      <td>9</td>\n",
       "      <td>19</td>\n",
       "      <td>42</td>\n",
       "      <td>1</td>\n",
       "      <td>1352193582</td>\n",
       "      <td>10001</td>\n",
       "      <td>5461</td>\n",
       "      <td>51</td>\n",
       "      <td>7</td>\n",
       "      <td>10</td>\n",
       "      <td>27.8</td>\n",
       "      <td>1240</td>\n",
       "      <td>19</td>\n",
       "    </tr>\n",
       "    <tr>\n",
       "      <th>7</th>\n",
       "      <td>2012</td>\n",
       "      <td>11</td>\n",
       "      <td>6</td>\n",
       "      <td>9</td>\n",
       "      <td>22</td>\n",
       "      <td>21</td>\n",
       "      <td>1</td>\n",
       "      <td>1352193741</td>\n",
       "      <td>10001</td>\n",
       "      <td>5461</td>\n",
       "      <td>265</td>\n",
       "      <td>7</td>\n",
       "      <td>10</td>\n",
       "      <td>27.8</td>\n",
       "      <td>1399</td>\n",
       "      <td>21</td>\n",
       "    </tr>\n",
       "    <tr>\n",
       "      <th>8</th>\n",
       "      <td>2012</td>\n",
       "      <td>11</td>\n",
       "      <td>6</td>\n",
       "      <td>9</td>\n",
       "      <td>24</td>\n",
       "      <td>43</td>\n",
       "      <td>1</td>\n",
       "      <td>1352193883</td>\n",
       "      <td>10001</td>\n",
       "      <td>5461</td>\n",
       "      <td>271</td>\n",
       "      <td>7</td>\n",
       "      <td>10</td>\n",
       "      <td>27.8</td>\n",
       "      <td>1541</td>\n",
       "      <td>22</td>\n",
       "    </tr>\n",
       "    <tr>\n",
       "      <th>9</th>\n",
       "      <td>2012</td>\n",
       "      <td>11</td>\n",
       "      <td>6</td>\n",
       "      <td>9</td>\n",
       "      <td>29</td>\n",
       "      <td>2</td>\n",
       "      <td>1</td>\n",
       "      <td>1352194142</td>\n",
       "      <td>10001</td>\n",
       "      <td>5461</td>\n",
       "      <td>340</td>\n",
       "      <td>7</td>\n",
       "      <td>10</td>\n",
       "      <td>27.8</td>\n",
       "      <td>1800</td>\n",
       "      <td>23</td>\n",
       "    </tr>\n",
       "  </tbody>\n",
       "</table>\n",
       "</div>"
      ],
      "text/plain": [
       "   Year  Month  Day  Hours  Minute  Second  WeekDay   Timestamp  \\\n",
       "0  2012     11    6      8      59       2        1  1352192342   \n",
       "1  2012     11    6      9       4      41        1  1352192681   \n",
       "2  2012     11    6      9       6      22        1  1352192782   \n",
       "3  2012     11    6      9       7      58        1  1352192878   \n",
       "4  2012     11    6      9      15      42        1  1352193342   \n",
       "5  2012     11    6      9      18       1        1  1352193481   \n",
       "6  2012     11    6      9      19      42        1  1352193582   \n",
       "7  2012     11    6      9      22      21        1  1352193741   \n",
       "8  2012     11    6      9      24      43        1  1352193883   \n",
       "9  2012     11    6      9      29       2        1  1352194142   \n",
       "\n",
       "   JourneyPatternID  VehicleJourneyID  StopID  Temperature (C)  \\\n",
       "0             10001              5461     226                7   \n",
       "1             10001              5461     231                8   \n",
       "2             10001              5461    1641                8   \n",
       "3             10001              5461    1642                8   \n",
       "4             10001              5461      47                8   \n",
       "5             10001              5461      49                7   \n",
       "6             10001              5461      51                7   \n",
       "7             10001              5461     265                7   \n",
       "8             10001              5461     271                7   \n",
       "9             10001              5461     340                7   \n",
       "\n",
       "  Visibility (km) Wind Speed (km/h)  Cumulative Time Taken  StopSeq  \n",
       "0              10              29.6                      0        0  \n",
       "1              10              31.5                    339        5  \n",
       "2              10              31.5                    440        6  \n",
       "3              10              31.5                    536        7  \n",
       "4              10              31.5                   1000       15  \n",
       "5              10              27.8                   1139       17  \n",
       "6              10              27.8                   1240       19  \n",
       "7              10              27.8                   1399       21  \n",
       "8              10              27.8                   1541       22  \n",
       "9              10              27.8                   1800       23  "
      ]
     },
     "execution_count": 391,
     "metadata": {},
     "output_type": "execute_result"
    }
   ],
   "source": [
    "print(os.getcwd())\n",
    "df=pd.read_csv('new_model_data_00010001.csv')\n",
    "df.head(10)"
   ]
  },
  {
   "cell_type": "markdown",
   "metadata": {},
   "source": [
    "# Add stop sequence feature to order stops in each route "
   ]
  },
  {
   "cell_type": "code",
   "execution_count": 392,
   "metadata": {
    "collapsed": true
   },
   "outputs": [],
   "source": [
    "#order sequence sourced from files available on dublinked site\n",
    "stops_ordered = [226, 228, 229, 227, 230, 231, 1641, 1642, 213, 214, 4432, 119, 44, 45, 46, 47, 48, 49, 50, 51, 52, 265, 271, 340, 350, 351, 352, 353, 354, 355, 356, 357, 390, 372, 373, 374, 375, 2804, 376, 377, 378, 380]\n",
    "stops_order = {}\n",
    "for i in range(len(stops_ordered)):\n",
    "    stops_order[stops_ordered[i]] = (i)"
   ]
  },
  {
   "cell_type": "code",
   "execution_count": 393,
   "metadata": {
    "collapsed": true
   },
   "outputs": [],
   "source": [
    "#for key in stops_order:\n",
    "    #print(key, stops_order[key])"
   ]
  },
  {
   "cell_type": "code",
   "execution_count": 394,
   "metadata": {
    "collapsed": true
   },
   "outputs": [],
   "source": [
    "#REVIEW SLICES OF DATASET\n",
    "# #sunday 11th, nov\n",
    "# dfSun = df.loc[df['WeekDay']==6]\n",
    "# dfSunN = dfSun.loc[dfSun['Month']==11]\n",
    "# dfSunOneWeekN = dfSunN.loc[(dfSunN['Day'] == 11)] \n",
    "# dfSunOneWeekN['StopSeq'] = 0"
   ]
  },
  {
   "cell_type": "code",
   "execution_count": 395,
   "metadata": {
    "collapsed": true
   },
   "outputs": [],
   "source": [
    "#add related stop sequencce value to new column\n",
    "for item, row in df.iterrows():\n",
    "    for key, value in stops_order.items():\n",
    "        if row['StopID'] == key:\n",
    "            df.set_value(item, 'StopSeq', value)\n",
    "df['StopSeq'] = df['StopSeq'].astype(int)"
   ]
  },
  {
   "cell_type": "code",
   "execution_count": 396,
   "metadata": {
    "scrolled": true
   },
   "outputs": [
    {
     "data": {
      "text/html": [
       "<div>\n",
       "<style>\n",
       "    .dataframe thead tr:only-child th {\n",
       "        text-align: right;\n",
       "    }\n",
       "\n",
       "    .dataframe thead th {\n",
       "        text-align: left;\n",
       "    }\n",
       "\n",
       "    .dataframe tbody tr th {\n",
       "        vertical-align: top;\n",
       "    }\n",
       "</style>\n",
       "<table border=\"1\" class=\"dataframe\">\n",
       "  <thead>\n",
       "    <tr style=\"text-align: right;\">\n",
       "      <th></th>\n",
       "      <th>Year</th>\n",
       "      <th>Month</th>\n",
       "      <th>Day</th>\n",
       "      <th>Hours</th>\n",
       "      <th>Minute</th>\n",
       "      <th>Second</th>\n",
       "      <th>WeekDay</th>\n",
       "      <th>Timestamp</th>\n",
       "      <th>JourneyPatternID</th>\n",
       "      <th>VehicleJourneyID</th>\n",
       "      <th>StopID</th>\n",
       "      <th>Temperature (C)</th>\n",
       "      <th>Visibility (km)</th>\n",
       "      <th>Wind Speed (km/h)</th>\n",
       "      <th>Cumulative Time Taken</th>\n",
       "      <th>StopSeq</th>\n",
       "    </tr>\n",
       "  </thead>\n",
       "  <tbody>\n",
       "    <tr>\n",
       "      <th>0</th>\n",
       "      <td>2012</td>\n",
       "      <td>11</td>\n",
       "      <td>6</td>\n",
       "      <td>8</td>\n",
       "      <td>59</td>\n",
       "      <td>2</td>\n",
       "      <td>1</td>\n",
       "      <td>1352192342</td>\n",
       "      <td>10001</td>\n",
       "      <td>5461</td>\n",
       "      <td>226</td>\n",
       "      <td>7</td>\n",
       "      <td>10</td>\n",
       "      <td>29.6</td>\n",
       "      <td>0</td>\n",
       "      <td>0</td>\n",
       "    </tr>\n",
       "    <tr>\n",
       "      <th>1</th>\n",
       "      <td>2012</td>\n",
       "      <td>11</td>\n",
       "      <td>6</td>\n",
       "      <td>9</td>\n",
       "      <td>4</td>\n",
       "      <td>41</td>\n",
       "      <td>1</td>\n",
       "      <td>1352192681</td>\n",
       "      <td>10001</td>\n",
       "      <td>5461</td>\n",
       "      <td>231</td>\n",
       "      <td>8</td>\n",
       "      <td>10</td>\n",
       "      <td>31.5</td>\n",
       "      <td>339</td>\n",
       "      <td>5</td>\n",
       "    </tr>\n",
       "    <tr>\n",
       "      <th>2</th>\n",
       "      <td>2012</td>\n",
       "      <td>11</td>\n",
       "      <td>6</td>\n",
       "      <td>9</td>\n",
       "      <td>6</td>\n",
       "      <td>22</td>\n",
       "      <td>1</td>\n",
       "      <td>1352192782</td>\n",
       "      <td>10001</td>\n",
       "      <td>5461</td>\n",
       "      <td>1641</td>\n",
       "      <td>8</td>\n",
       "      <td>10</td>\n",
       "      <td>31.5</td>\n",
       "      <td>440</td>\n",
       "      <td>6</td>\n",
       "    </tr>\n",
       "  </tbody>\n",
       "</table>\n",
       "</div>"
      ],
      "text/plain": [
       "   Year  Month  Day  Hours  Minute  Second  WeekDay   Timestamp  \\\n",
       "0  2012     11    6      8      59       2        1  1352192342   \n",
       "1  2012     11    6      9       4      41        1  1352192681   \n",
       "2  2012     11    6      9       6      22        1  1352192782   \n",
       "\n",
       "   JourneyPatternID  VehicleJourneyID  StopID  Temperature (C)  \\\n",
       "0             10001              5461     226                7   \n",
       "1             10001              5461     231                8   \n",
       "2             10001              5461    1641                8   \n",
       "\n",
       "  Visibility (km) Wind Speed (km/h)  Cumulative Time Taken  StopSeq  \n",
       "0              10              29.6                      0        0  \n",
       "1              10              31.5                    339        5  \n",
       "2              10              31.5                    440        6  "
      ]
     },
     "execution_count": 396,
     "metadata": {},
     "output_type": "execute_result"
    }
   ],
   "source": [
    "df.head(3)"
   ]
  },
  {
   "cell_type": "markdown",
   "metadata": {},
   "source": [
    "LIST OF INITIAL COLUNM FEATURES"
   ]
  },
  {
   "cell_type": "code",
   "execution_count": 397,
   "metadata": {},
   "outputs": [
    {
     "data": {
      "text/plain": [
       "['Year',\n",
       " 'Month',\n",
       " 'Day',\n",
       " 'Hours',\n",
       " 'Minute',\n",
       " 'Second',\n",
       " 'WeekDay',\n",
       " 'Timestamp',\n",
       " 'JourneyPatternID',\n",
       " 'VehicleJourneyID',\n",
       " 'StopID',\n",
       " 'Temperature (C)',\n",
       " 'Visibility (km)',\n",
       " 'Wind Speed (km/h)',\n",
       " 'Cumulative Time Taken',\n",
       " 'StopSeq']"
      ]
     },
     "execution_count": 397,
     "metadata": {},
     "output_type": "execute_result"
    }
   ],
   "source": [
    "col_list = list(df)\n",
    "col_list"
   ]
  },
  {
   "cell_type": "code",
   "execution_count": 398,
   "metadata": {
    "collapsed": true
   },
   "outputs": [],
   "source": [
    "#run once per session, swappint CTT and stop seq\n",
    "# col_list = list(df)\n",
    "# col_list[14], col_list[15] = col_list[15], col_list[14]\n",
    "# df.columns = col_list\n",
    "# df.head(3)"
   ]
  },
  {
   "cell_type": "markdown",
   "metadata": {},
   "source": [
    "INITIAL DATA TYPES"
   ]
  },
  {
   "cell_type": "code",
   "execution_count": 399,
   "metadata": {},
   "outputs": [
    {
     "data": {
      "text/plain": [
       "Year                      int64\n",
       "Month                     int64\n",
       "Day                       int64\n",
       "Hours                     int64\n",
       "Minute                    int64\n",
       "Second                    int64\n",
       "WeekDay                   int64\n",
       "Timestamp                 int64\n",
       "JourneyPatternID          int64\n",
       "VehicleJourneyID          int64\n",
       "StopID                    int64\n",
       "Temperature (C)           int64\n",
       "Visibility (km)          object\n",
       "Wind Speed (km/h)        object\n",
       "Cumulative Time Taken     int64\n",
       "StopSeq                   int32\n",
       "dtype: object"
      ]
     },
     "execution_count": 399,
     "metadata": {},
     "output_type": "execute_result"
    }
   ],
   "source": [
    "df.dtypes"
   ]
  },
  {
   "cell_type": "code",
   "execution_count": 400,
   "metadata": {},
   "outputs": [
    {
     "data": {
      "text/plain": [
       "(29527, 16)"
      ]
     },
     "execution_count": 400,
     "metadata": {},
     "output_type": "execute_result"
    }
   ],
   "source": [
    "df.shape"
   ]
  },
  {
   "cell_type": "code",
   "execution_count": 401,
   "metadata": {
    "collapsed": true
   },
   "outputs": [],
   "source": [
    "df['StopSeq'] = df['StopSeq'].astype(int)"
   ]
  },
  {
   "cell_type": "code",
   "execution_count": 402,
   "metadata": {
    "collapsed": true
   },
   "outputs": [],
   "source": [
    "#remove lines with Calm in windspeed\n",
    "#remove lines with '-' in visibility\n",
    "#proceed with feature use\n",
    "\n",
    "# count = 0\n",
    "# for item, row in df.iterrows():\n",
    "#     if row['Wind Speed (km/h)']==\"Calm\":\n",
    "#         print(row['Wind Speed (km/h)'], count, type(row['Wind Speed (km/h)']))\n",
    "#         count+=1\n",
    "#         del row\n",
    "#     else:\n",
    "#         continue\n",
    "\n",
    "#delete lines of incorrect values in windspeed, visibility features"
   ]
  },
  {
   "cell_type": "markdown",
   "metadata": {},
   "source": [
    "# REVIEW COLUMNS, UNIQUE VALUES AND THEIR COUNTS"
   ]
  },
  {
   "cell_type": "code",
   "execution_count": 403,
   "metadata": {},
   "outputs": [
    {
     "name": "stdout",
     "output_type": "stream",
     "text": [
      "Year \n",
      " [2012 2013] \n",
      " number of unique values: 2 \n",
      " 2013    16091\n",
      "2012    13436\n",
      "Name: Year, dtype: int64 \n",
      "\n",
      "Month \n",
      " [11  1] \n",
      " number of unique values: 2 \n",
      " 1     16091\n",
      "11    13436\n",
      "Name: Month, dtype: int64 \n",
      "\n",
      "Day \n",
      " [ 6  7  8  9 10 11 12 13 14 15 16 17 18 19 20 21 22 23 24 25 26 27 28 29 30\n",
      "  1  2  3  4  5 31] \n",
      " number of unique values: 31 \n",
      " 8     1416\n",
      "22    1290\n",
      "7     1281\n",
      "14    1268\n",
      "26    1252\n",
      "21    1213\n",
      "15    1200\n",
      "19    1149\n",
      "16    1147\n",
      "9     1126\n",
      "29    1107\n",
      "23    1097\n",
      "17    1093\n",
      "10    1073\n",
      "12    1041\n",
      "28    1035\n",
      "6     1020\n",
      "13    1007\n",
      "27     974\n",
      "24     919\n",
      "20     916\n",
      "11     857\n",
      "18     829\n",
      "25     797\n",
      "3      710\n",
      "4      705\n",
      "30     572\n",
      "2      563\n",
      "5      491\n",
      "1      278\n",
      "31     101\n",
      "Name: Day, dtype: int64 \n",
      "\n",
      "Hours \n",
      " [ 8  9 10 11 12 13 14 15 16 17 18 19 20 21 22 23  7] \n",
      " number of unique values: 17 \n",
      " 12    2856\n",
      "11    2768\n",
      "13    2764\n",
      "14    2716\n",
      "16    2384\n",
      "15    2335\n",
      "10    2330\n",
      "17    2137\n",
      "9     1813\n",
      "18    1725\n",
      "20    1435\n",
      "19    1351\n",
      "21    1241\n",
      "22    1029\n",
      "23     563\n",
      "8       79\n",
      "7        1\n",
      "Name: Hours, dtype: int64 \n",
      "\n",
      "Minute \n",
      " [59  4  6  7 15 18 19 22 24 29 30 33 34 35 36 50 21 23 26 27 28 38 39 43 44\n",
      " 46 49 53 55 58  0  1  5  8  2 10 11 14 17 20 31 37 40 41 42 32 48 51 56 57\n",
      " 54  3 16  9 13 25 47 12 45 52] \n",
      " number of unique values: 60 \n",
      " 0     817\n",
      "2     650\n",
      "20    637\n",
      "40    637\n",
      "1     625\n",
      "30    593\n",
      "41    571\n",
      "39    566\n",
      "43    561\n",
      "3     547\n",
      "21    537\n",
      "4     534\n",
      "22    530\n",
      "7     526\n",
      "38    525\n",
      "42    524\n",
      "33    520\n",
      "59    517\n",
      "19    513\n",
      "32    508\n",
      "31    507\n",
      "35    499\n",
      "45    497\n",
      "34    495\n",
      "37    493\n",
      "5     490\n",
      "6     489\n",
      "36    482\n",
      "18    479\n",
      "47    477\n",
      "24    474\n",
      "44    473\n",
      "23    467\n",
      "14    465\n",
      "9     463\n",
      "16    462\n",
      "13    460\n",
      "46    457\n",
      "8     453\n",
      "55    453\n",
      "26    451\n",
      "17    451\n",
      "11    446\n",
      "48    446\n",
      "58    440\n",
      "54    438\n",
      "12    436\n",
      "15    436\n",
      "56    435\n",
      "51    432\n",
      "53    429\n",
      "29    427\n",
      "27    425\n",
      "25    424\n",
      "49    420\n",
      "10    418\n",
      "52    415\n",
      "57    397\n",
      "50    397\n",
      "28    391\n",
      "Name: Minute, dtype: int64 \n",
      "\n",
      "Second \n",
      " [ 2 41 22 58 42  1 21 43 44  3 25  0  8 27 46 45  5 28 26 49  6  7 48 47 31\n",
      "  9 52 50 30 23 24 18 37 16 36 17 57  4 53 35 33 12 54 32 13 14 29 10 11 51\n",
      " 34 19 20 38 59 39 56 15 55 40] \n",
      " number of unique values: 60 \n",
      " 5     982\n",
      "26    959\n",
      "25    941\n",
      "44    931\n",
      "45    919\n",
      "6     913\n",
      "27    898\n",
      "7     897\n",
      "4     893\n",
      "8     855\n",
      "47    849\n",
      "46    840\n",
      "28    837\n",
      "24    829\n",
      "48    826\n",
      "29    774\n",
      "49    772\n",
      "3     755\n",
      "10    755\n",
      "23    728\n",
      "43    719\n",
      "9     693\n",
      "51    687\n",
      "50    680\n",
      "30    664\n",
      "11    646\n",
      "31    608\n",
      "22    541\n",
      "2     537\n",
      "42    513\n",
      "12    456\n",
      "52    436\n",
      "32    413\n",
      "33    298\n",
      "13    283\n",
      "53    274\n",
      "41    266\n",
      "1     263\n",
      "21    244\n",
      "34    221\n",
      "14    206\n",
      "15    199\n",
      "55    182\n",
      "35    179\n",
      "16    169\n",
      "54    166\n",
      "57    158\n",
      "17    154\n",
      "36    149\n",
      "37    147\n",
      "18    136\n",
      "56    135\n",
      "0     131\n",
      "38    130\n",
      "59    121\n",
      "39    120\n",
      "58    119\n",
      "19    115\n",
      "20    110\n",
      "40    106\n",
      "Name: Second, dtype: int64 \n",
      "\n",
      "WeekDay \n",
      " [1 2 3 4 5 6 0] \n",
      " number of unique values: 7 \n",
      " 1    5310\n",
      "3    4912\n",
      "2    4620\n",
      "4    4429\n",
      "0    4428\n",
      "5    3577\n",
      "6    2251\n",
      "Name: WeekDay, dtype: int64 \n",
      "\n",
      "Timestamp \n",
      " [1352192342 1352192681 1352192782 ..., 1359632617 1359632388 1359632472] \n",
      " number of unique values: 29078 \n",
      " 1352284863    3\n",
      "1357728426    3\n",
      "1358852828    3\n",
      "1352473568    3\n",
      "1353587883    3\n",
      "1353523629    3\n",
      "1358259627    3\n",
      "1358599403    2\n",
      "1359482618    2\n",
      "1354038052    2\n",
      "1353592381    2\n",
      "1357652806    2\n",
      "1359375805    2\n",
      "1357215782    2\n",
      "1359034044    2\n",
      "1359192986    2\n",
      "1352923864    2\n",
      "1359469204    2\n",
      "1359477745    2\n",
      "1352472087    2\n",
      "1353579813    2\n",
      "1353422406    2\n",
      "1353415145    2\n",
      "1352457352    2\n",
      "1352827645    2\n",
      "1352457688    2\n",
      "1353926191    2\n",
      "1353674105    2\n",
      "1357728850    2\n",
      "1352205213    2\n",
      "             ..\n",
      "1359121508    1\n",
      "1357921330    1\n",
      "1352719406    1\n",
      "1357669369    1\n",
      "1354023949    1\n",
      "1357648406    1\n",
      "1358775293    1\n",
      "1353968289    1\n",
      "1357927423    1\n",
      "1359189234    1\n",
      "1352578051    1\n",
      "1353681924    1\n",
      "1357677573    1\n",
      "1352569863    1\n",
      "1359023047    1\n",
      "1358625802    1\n",
      "1353700367    1\n",
      "1353698348    1\n",
      "1358769168    1\n",
      "1353059348    1\n",
      "1357650966    1\n",
      "1357560661    1\n",
      "1357210649    1\n",
      "1353088026    1\n",
      "1353937947    1\n",
      "1353242880    1\n",
      "1359387686    1\n",
      "1354011687    1\n",
      "1353446443    1\n",
      "1357907969    1\n",
      "Name: Timestamp, Length: 29078, dtype: int64 \n",
      "\n",
      "JourneyPatternID \n",
      " [10001] \n",
      " number of unique values: 1 \n",
      " 10001    29527\n",
      "Name: JourneyPatternID, dtype: int64 \n",
      "\n",
      "VehicleJourneyID \n",
      " [ 5461  5494  5444  5425  5482  5463  5496  5514  5446  5427  5484  5465\n",
      "  5498  5516  5486  5467  5500  5518  5450  5488  5469  5502  5452  5433\n",
      "  5490  5471  5504  5454  5435  5473  5506  5456  5437  5475  5512  5448\n",
      "  5431  5520  5429 12138 12164 12123 12155 12140 12166 12125 12185 12157\n",
      " 12127 12176 12170 12129 12189 12161 12146 12172 12131 12191 12148 12180\n",
      " 12133 12193 12150 12182 12135 12195 12152 16367 16354 16382 16369 16356\n",
      " 16384 16371 16358 16386 16373 16360 16388 16375 16362 16390 16377 16364\n",
      " 16392 16379 12153 12142 12174 12168 12187 12159 12178 15672 15659 15687\n",
      " 15646 15674 15661 15689 15648 15676 15663 15691 15650 15678 15665 15693\n",
      " 15652 15680 15667 15695 15654 15682 15669 15697 15656 15684 15671  4784\n",
      "  4817  4835  4748  4805  4786  4819  4837  4769  4750  4807  4821  4771\n",
      "  4752  4809  4790  4823  4841  4754  4811  4825  4775  4756  4794  4827\n",
      "  4777  4796  4829  4779  4760  4798  4839  4813  4758  4767  4788  4773\n",
      "  4843 11433 11418 11444 11403 11435 11420 11446 11405 11465 11437 11422\n",
      " 11454 11448 11407 11467 11456 11450 11409 11469 11441 11458 11452 11411\n",
      " 11428 11460 11473 11430 11415 11475 11432 15732 15760 15719 15747 15734\n",
      " 15762 15749 15736 15764 15751 15738 15725 15768 15727 15755 15742 15770\n",
      " 15729 15757 15744  4874  4806  4787  4844  4858  4876  4808  4789  4846\n",
      "  4860  4878  4810  4791  4848  4862  4880  4812  4793  4850  4831  4864\n",
      "  4882  4866  4816  4797  4868  4818  4799  4856  4795  4814  4852 15594\n",
      " 15622 15581 15609 15596 15624 15583 15611 15598 15626 15585 15613 15600\n",
      " 15628 15587 15615 15602 15630 15589 15617 15604 15632 15591 15619 15606\n",
      "  4644  4677  4608  4665  4646  4679  4629  4610  4667  4648  4681  4699\n",
      "  4631  4612  4669  4683  4633  4614  4671  4652  4685  4703  4635  4616\n",
      "  4673  4654  4687  4637  4618  4656  4689  4639  4620  4658  4695  4627\n",
      "  4697  4650  4701 11262 11247 11273 11232 11264 11249 11275 11294 11266\n",
      " 11251 11283 11277 11236 11296 11268 11253 11285 11279 11298 11270 11287\n",
      " 11281 11300 11257 11289 11242 11302 11259 11291 11244 11304 11261 11230\n",
      " 11234 11240 11238 11255 15607 15579] \n",
      " number of unique values: 342 \n",
      " 4665     446\n",
      "4629     435\n",
      "4646     429\n",
      "4681     428\n",
      "4631     416\n",
      "4679     402\n",
      "4644     397\n",
      "4648     391\n",
      "4633     391\n",
      "4677     388\n",
      "4683     376\n",
      "4699     376\n",
      "4667     374\n",
      "4669     365\n",
      "4627     363\n",
      "4652     357\n",
      "4671     352\n",
      "4612     348\n",
      "4701     337\n",
      "4610     335\n",
      "4685     320\n",
      "4697     318\n",
      "4687     307\n",
      "4695     303\n",
      "4614     286\n",
      "4650     271\n",
      "4639     254\n",
      "4608     246\n",
      "4656     246\n",
      "4635     241\n",
      "        ... \n",
      "16367     10\n",
      "16390      9\n",
      "15650      9\n",
      "15757      9\n",
      "15667      9\n",
      "15742      9\n",
      "15749      9\n",
      "11467      9\n",
      "15764      9\n",
      "15607      9\n",
      "15684      9\n",
      "15727      9\n",
      "11475      8\n",
      "16377      8\n",
      "16392      8\n",
      "15770      8\n",
      "12135      8\n",
      "15669      8\n",
      "15755      8\n",
      "16364      8\n",
      "15751      7\n",
      "15656      7\n",
      "15729      6\n",
      "15697      5\n",
      "11411      5\n",
      "16375      4\n",
      "11432      2\n",
      "11460      2\n",
      "11430      1\n",
      "11415      1\n",
      "Name: VehicleJourneyID, Length: 342, dtype: int64 \n",
      "\n",
      "StopID \n",
      " [ 226  231 1641 1642   47   49   51  265  271  340  350  352  353  354  355\n",
      "  380  227  230  213  119   44   48   52  356  357  374  229 4432   45  351\n",
      "  390  372   46   50  378  373  214  377  228  375 2804  376] \n",
      " number of unique values: 42 \n",
      " 226     1696\n",
      "271     1572\n",
      "340     1537\n",
      "265     1332\n",
      "356     1201\n",
      "380     1173\n",
      "354     1128\n",
      "374     1127\n",
      "357     1079\n",
      "213      989\n",
      "49       964\n",
      "231      938\n",
      "351      924\n",
      "353      887\n",
      "352      869\n",
      "45       828\n",
      "350      730\n",
      "47       686\n",
      "48       674\n",
      "390      668\n",
      "355      645\n",
      "46       642\n",
      "52       582\n",
      "227      562\n",
      "372      559\n",
      "229      542\n",
      "51       521\n",
      "119      483\n",
      "44       481\n",
      "1642     413\n",
      "377      379\n",
      "50       379\n",
      "378      353\n",
      "4432     346\n",
      "2804     285\n",
      "1641     285\n",
      "373      243\n",
      "230      194\n",
      "214      192\n",
      "228      168\n",
      "375      144\n",
      "376      127\n",
      "Name: StopID, dtype: int64 \n",
      "\n",
      "Temperature (C) \n",
      " [ 7  8  9 11 10  6  4  5  3  2 12 13 14 -2 -1  1  0 -4 -5 -3] \n",
      " number of unique values: 20 \n",
      "  7     2822\n",
      " 6     2817\n",
      " 4     2541\n",
      " 9     2519\n",
      " 2     2483\n",
      " 10    2400\n",
      " 11    2305\n",
      " 5     2180\n",
      " 8     1933\n",
      " 12    1835\n",
      " 13    1628\n",
      " 3     1449\n",
      " 1     1380\n",
      " 0      525\n",
      " 14     290\n",
      "-1      282\n",
      "-2       49\n",
      "-3       41\n",
      "-5       40\n",
      "-4        8\n",
      "Name: Temperature (C), dtype: int64 \n",
      "\n",
      "Visibility (km) \n",
      " ['10' '25' '35' '5' '18' '30' '40' '8' '15' '9' '-' '7' '6' '20' '2.5' '45'\n",
      " '50' '17' '60' '3.5' '12' '4.5' '0.7' '4' '2.8' '2' '11' '22'] \n",
      " number of unique values: 28 \n",
      " 10     24294\n",
      "8       1026\n",
      "9        815\n",
      "7        636\n",
      "-        533\n",
      "5        433\n",
      "6        375\n",
      "30       189\n",
      "20       180\n",
      "25       179\n",
      "4.5      123\n",
      "40       115\n",
      "4        104\n",
      "35        90\n",
      "50        89\n",
      "2         52\n",
      "18        47\n",
      "3.5       44\n",
      "15        36\n",
      "60        36\n",
      "45        33\n",
      "11        23\n",
      "12        21\n",
      "22        19\n",
      "2.8       14\n",
      "2.5        9\n",
      "0.7        7\n",
      "17         5\n",
      "Name: Visibility (km), dtype: int64 \n",
      "\n",
      "Wind Speed (km/h) \n",
      " ['29.6' '31.5' '27.8' '33.3' '37' '36' '35.2' '38.9' '25.9' '28.8' '24.1'\n",
      " '32.4' '20.4' '22.2' '25.2' '16.7' '18' '14.8' '18.5' '13' '7.4' '14.4'\n",
      " '21.6' '11.1' '9.3' '39.6' '42.6' '40.7' '7.2' '3.7' '5.6' '10.8' 'Calm'\n",
      " '3.6' '44.4' '1.9' '50' '48.2' '51.9' '46.3' '50.4' '46.8' '59.3' '53.7'\n",
      " '55.6' '54' '66.7' '43.2'] \n",
      " number of unique values: 48 \n",
      " 24.1    2100\n",
      "18.5    2009\n",
      "9.3     2004\n",
      "16.7    1936\n",
      "20.4    1935\n",
      "22.2    1689\n",
      "25.9    1676\n",
      "14.8    1579\n",
      "11.1    1488\n",
      "13      1349\n",
      "27.8    1282\n",
      "31.5    1277\n",
      "7.4     1256\n",
      "5.6      995\n",
      "29.6     914\n",
      "35.2     849\n",
      "33.3     757\n",
      "38.9     446\n",
      "37       398\n",
      "3.7      386\n",
      "46.3     283\n",
      "48.2     227\n",
      "51.9     215\n",
      "40.7     209\n",
      "44.4     192\n",
      "25.2     185\n",
      "10.8     174\n",
      "Calm     168\n",
      "1.9      165\n",
      "50       159\n",
      "42.6     158\n",
      "21.6     155\n",
      "14.4     141\n",
      "18       140\n",
      "28.8     115\n",
      "7.2       74\n",
      "55.6      67\n",
      "53.7      59\n",
      "32.4      57\n",
      "36        53\n",
      "39.6      49\n",
      "3.6       41\n",
      "46.8      33\n",
      "66.7      32\n",
      "59.3      20\n",
      "43.2      17\n",
      "54        11\n",
      "50.4       3\n",
      "Name: Wind Speed (km/h), dtype: int64 \n",
      "\n",
      "Cumulative Time Taken \n",
      " [   0  339  440 ...,  735 3189 1295] \n",
      " number of unique values: 3154 \n",
      " 0       1696\n",
      "80        95\n",
      "100       71\n",
      "121       61\n",
      "119       56\n",
      "1040      54\n",
      "440       54\n",
      "139       53\n",
      "420       53\n",
      "800       52\n",
      "840       52\n",
      "960       51\n",
      "1000      51\n",
      "940       51\n",
      "760       50\n",
      "2161      50\n",
      "901       50\n",
      "1220      49\n",
      "880       49\n",
      "900       49\n",
      "1340      48\n",
      "1160      48\n",
      "1101      48\n",
      "640       47\n",
      "861       47\n",
      "1099      47\n",
      "959       47\n",
      "2140      47\n",
      "1740      46\n",
      "820       46\n",
      "        ... \n",
      "215        1\n",
      "2230       1\n",
      "167        1\n",
      "3424       1\n",
      "151        1\n",
      "1131       1\n",
      "3194       1\n",
      "21         1\n",
      "3226       1\n",
      "37         1\n",
      "3967       1\n",
      "1693       1\n",
      "3536       1\n",
      "1709       1\n",
      "1211       1\n",
      "1870       1\n",
      "4433       1\n",
      "1227       1\n",
      "1926       1\n",
      "3741       1\n",
      "1894       1\n",
      "1830       1\n",
      "2370       1\n",
      "307        1\n",
      "3820       1\n",
      "1726       1\n",
      "1692       1\n",
      "3743       1\n",
      "3842       1\n",
      "1769       1\n",
      "Name: Cumulative Time Taken, Length: 3154, dtype: int64 \n",
      "\n",
      "StopSeq \n",
      " [ 0  5  6  7 15 17 19 21 22 23 24 26 27 28 29 41  3  4  8 11 12 16 20 30 31\n",
      " 35  2 10 13 25 32 33 14 18 40 34  9 39  1 36 37 38] \n",
      " number of unique values: 42 \n",
      " 0     1696\n",
      "22    1572\n",
      "23    1537\n",
      "21    1332\n",
      "30    1201\n",
      "41    1173\n",
      "28    1128\n",
      "35    1127\n",
      "31    1079\n",
      "8      989\n",
      "17     964\n",
      "5      938\n",
      "25     924\n",
      "27     887\n",
      "26     869\n",
      "13     828\n",
      "24     730\n",
      "15     686\n",
      "16     674\n",
      "32     668\n",
      "29     645\n",
      "14     642\n",
      "20     582\n",
      "3      562\n",
      "33     559\n",
      "2      542\n",
      "19     521\n",
      "11     483\n",
      "12     481\n",
      "7      413\n",
      "18     379\n",
      "39     379\n",
      "40     353\n",
      "10     346\n",
      "37     285\n",
      "6      285\n",
      "34     243\n",
      "4      194\n",
      "9      192\n",
      "1      168\n",
      "36     144\n",
      "38     127\n",
      "Name: StopSeq, dtype: int64 \n",
      "\n"
     ]
    }
   ],
   "source": [
    "for col_name in df:\n",
    "    print(col_name, \"\\n\", df[col_name].unique(), \"\\n\", \"number of unique values:\", len(df[col_name].unique()), \"\\n\", df[col_name].value_counts(), \"\\n\")"
   ]
  },
  {
   "cell_type": "code",
   "execution_count": 404,
   "metadata": {},
   "outputs": [
    {
     "data": {
      "text/html": [
       "<div>\n",
       "<style>\n",
       "    .dataframe thead tr:only-child th {\n",
       "        text-align: right;\n",
       "    }\n",
       "\n",
       "    .dataframe thead th {\n",
       "        text-align: left;\n",
       "    }\n",
       "\n",
       "    .dataframe tbody tr th {\n",
       "        vertical-align: top;\n",
       "    }\n",
       "</style>\n",
       "<table border=\"1\" class=\"dataframe\">\n",
       "  <thead>\n",
       "    <tr style=\"text-align: right;\">\n",
       "      <th></th>\n",
       "      <th>Year</th>\n",
       "      <th>Month</th>\n",
       "      <th>Day</th>\n",
       "      <th>Hours</th>\n",
       "      <th>Minute</th>\n",
       "      <th>Second</th>\n",
       "      <th>WeekDay</th>\n",
       "      <th>Timestamp</th>\n",
       "      <th>JourneyPatternID</th>\n",
       "      <th>VehicleJourneyID</th>\n",
       "      <th>StopID</th>\n",
       "      <th>Temperature (C)</th>\n",
       "      <th>Visibility (km)</th>\n",
       "      <th>Wind Speed (km/h)</th>\n",
       "      <th>Cumulative Time Taken</th>\n",
       "      <th>StopSeq</th>\n",
       "    </tr>\n",
       "  </thead>\n",
       "  <tbody>\n",
       "    <tr>\n",
       "      <th>3319</th>\n",
       "      <td>2012</td>\n",
       "      <td>11</td>\n",
       "      <td>12</td>\n",
       "      <td>9</td>\n",
       "      <td>0</td>\n",
       "      <td>47</td>\n",
       "      <td>0</td>\n",
       "      <td>1352710847</td>\n",
       "      <td>10001</td>\n",
       "      <td>5461</td>\n",
       "      <td>226</td>\n",
       "      <td>12</td>\n",
       "      <td>10</td>\n",
       "      <td>25.9</td>\n",
       "      <td>0</td>\n",
       "      <td>0</td>\n",
       "    </tr>\n",
       "    <tr>\n",
       "      <th>3320</th>\n",
       "      <td>2012</td>\n",
       "      <td>11</td>\n",
       "      <td>12</td>\n",
       "      <td>9</td>\n",
       "      <td>1</td>\n",
       "      <td>48</td>\n",
       "      <td>0</td>\n",
       "      <td>1352710908</td>\n",
       "      <td>10001</td>\n",
       "      <td>5461</td>\n",
       "      <td>228</td>\n",
       "      <td>12</td>\n",
       "      <td>10</td>\n",
       "      <td>25.9</td>\n",
       "      <td>61</td>\n",
       "      <td>1</td>\n",
       "    </tr>\n",
       "    <tr>\n",
       "      <th>3321</th>\n",
       "      <td>2012</td>\n",
       "      <td>11</td>\n",
       "      <td>12</td>\n",
       "      <td>9</td>\n",
       "      <td>2</td>\n",
       "      <td>25</td>\n",
       "      <td>0</td>\n",
       "      <td>1352710945</td>\n",
       "      <td>10001</td>\n",
       "      <td>5461</td>\n",
       "      <td>229</td>\n",
       "      <td>12</td>\n",
       "      <td>10</td>\n",
       "      <td>25.9</td>\n",
       "      <td>98</td>\n",
       "      <td>2</td>\n",
       "    </tr>\n",
       "    <tr>\n",
       "      <th>3322</th>\n",
       "      <td>2012</td>\n",
       "      <td>11</td>\n",
       "      <td>12</td>\n",
       "      <td>9</td>\n",
       "      <td>3</td>\n",
       "      <td>46</td>\n",
       "      <td>0</td>\n",
       "      <td>1352711026</td>\n",
       "      <td>10001</td>\n",
       "      <td>5461</td>\n",
       "      <td>227</td>\n",
       "      <td>12</td>\n",
       "      <td>10</td>\n",
       "      <td>25.9</td>\n",
       "      <td>179</td>\n",
       "      <td>3</td>\n",
       "    </tr>\n",
       "    <tr>\n",
       "      <th>3323</th>\n",
       "      <td>2012</td>\n",
       "      <td>11</td>\n",
       "      <td>12</td>\n",
       "      <td>9</td>\n",
       "      <td>4</td>\n",
       "      <td>27</td>\n",
       "      <td>0</td>\n",
       "      <td>1352711067</td>\n",
       "      <td>10001</td>\n",
       "      <td>5461</td>\n",
       "      <td>230</td>\n",
       "      <td>12</td>\n",
       "      <td>10</td>\n",
       "      <td>25.9</td>\n",
       "      <td>220</td>\n",
       "      <td>4</td>\n",
       "    </tr>\n",
       "  </tbody>\n",
       "</table>\n",
       "</div>"
      ],
      "text/plain": [
       "      Year  Month  Day  Hours  Minute  Second  WeekDay   Timestamp  \\\n",
       "3319  2012     11   12      9       0      47        0  1352710847   \n",
       "3320  2012     11   12      9       1      48        0  1352710908   \n",
       "3321  2012     11   12      9       2      25        0  1352710945   \n",
       "3322  2012     11   12      9       3      46        0  1352711026   \n",
       "3323  2012     11   12      9       4      27        0  1352711067   \n",
       "\n",
       "      JourneyPatternID  VehicleJourneyID  StopID  Temperature (C)  \\\n",
       "3319             10001              5461     226               12   \n",
       "3320             10001              5461     228               12   \n",
       "3321             10001              5461     229               12   \n",
       "3322             10001              5461     227               12   \n",
       "3323             10001              5461     230               12   \n",
       "\n",
       "     Visibility (km) Wind Speed (km/h)  Cumulative Time Taken  StopSeq  \n",
       "3319              10              25.9                      0        0  \n",
       "3320              10              25.9                     61        1  \n",
       "3321              10              25.9                     98        2  \n",
       "3322              10              25.9                    179        3  \n",
       "3323              10              25.9                    220        4  "
      ]
     },
     "execution_count": 404,
     "metadata": {},
     "output_type": "execute_result"
    }
   ],
   "source": [
    "dfMon = df.loc[df['WeekDay']==0]\n",
    "dfMonN = dfMon.loc[dfMon['Month']==11]\n",
    "dfMonN.head(5)\n",
    "# dfMonNVJ = dfMonN.loc[dfMonN['VehicleJourneyID'==5461]]\n",
    "# dfMonNVJ.head(5)"
   ]
  },
  {
   "cell_type": "code",
   "execution_count": 405,
   "metadata": {},
   "outputs": [
    {
     "data": {
      "text/plain": [
       "<matplotlib.axes._subplots.AxesSubplot at 0x1bd5950fba8>"
      ]
     },
     "execution_count": 405,
     "metadata": {},
     "output_type": "execute_result"
    },
    {
     "data": {
      "image/png": "[encoded data removed]",
      "text/plain": [
       "<matplotlib.figure.Figure at 0x1bd56930940>"
      ]
     },
     "metadata": {},
     "output_type": "display_data"
    }
   ],
   "source": [
    "#Mon, 12th, Nov, 2011, route 1, \n",
    "#this graph was cleaned by applying averages to stops that were not recorded at the start \n",
    "#of a trip i.e. where the first stop recorded was stop 4, averages were applied to the CTT column of stops 0-3, \n",
    "#this did not impact averages overall (Conor did this and applied it to the latest working set of CSVs) \n",
    "\n",
    "#dfMonNVJ.plot(kind='line', x='StopSeq', y='Cumulative Time Taken', figsize=(10, 8))\n",
    "dfMonN.plot(kind='line', x='StopSeq', y='Cumulative Time Taken', figsize=(10, 8))"
   ]
  },
  {
   "cell_type": "markdown",
   "metadata": {},
   "source": [
    "# MODEL IMPLEMENTATION SECTION: RFR, GRADIENT, BAGGING, ADABOOST "
   ]
  },
  {
   "cell_type": "code",
   "execution_count": 406,
   "metadata": {
    "collapsed": true
   },
   "outputs": [],
   "source": [
    "#REFERENCE: https://www.kaggle.com/olgabelitskaya/regressors\n",
    "# Formatted scoring function taken from this Kaggle kernel"
   ]
  },
  {
   "cell_type": "code",
   "execution_count": 407,
   "metadata": {
    "collapsed": true
   },
   "outputs": [],
   "source": [
    "def scores(regressor, y_train, y_test, y_train_reg, y_test_reg):\n",
    "    \"\"\"return various error metrics of models' predictions for model evaluation\"\"\"\n",
    "    regressor_list.append(str(regressor))\n",
    "    \n",
    "    ev_train_c = explained_variance_score(y_train, y_train_reg)\n",
    "    ev_train.append(ev_train_c)\n",
    "    ev_test_c = explained_variance_score(y_test, y_test_reg)\n",
    "    ev_test.append(ev_test_c)\n",
    "    \n",
    "    r2_train_c = r2_score(y_train, y_train_reg)\n",
    "    r2_train.append(r2_train_c)\n",
    "    r2_test_c = r2_score(y_test, y_test_reg)\n",
    "    r2_test.append(r2_test_c)\n",
    "    \n",
    "    mse_train_c = mean_squared_error(y_train, y_train_reg)\n",
    "    mse_train.append(mse_train_c)\n",
    "    mse_test_c = mean_squared_error(y_test, y_test_reg)\n",
    "    mse_test.append(mse_test_c)\n",
    "\n",
    "    mae_train_c = mean_absolute_error(y_train, y_train_reg)\n",
    "    mae_train.append(mae_train_c)\n",
    "    mae_test_c = mean_absolute_error(y_test, y_test_reg)\n",
    "    mae_test.append(mae_test_c)  \n",
    "    \n",
    "    mdae_train_c = median_absolute_error(y_train, y_train_reg)\n",
    "    mdae_train.append(mdae_train_c)\n",
    "    mdae_test_c = median_absolute_error(y_test, y_test_reg)\n",
    "    mdae_test.append(mdae_test_c)\n",
    "    \n",
    "    print(\"______________________________________________________________________________\")\n",
    "    print(str(regressor))\n",
    "    print(\"______________________________________________________________________________\")\n",
    "    print(\"EV score. Train: \", ev_train_c)\n",
    "    print(\"EV score. Test: \", ev_test_c)\n",
    "    print(\"---------\")\n",
    "    print(\"R2 score. Train: \", r2_train_c)\n",
    "    print(\"R2 score. Test: \", r2_test_c)\n",
    "    print(\"---------\")\n",
    "    print(\"MSE score. Train: \", mse_train_c)\n",
    "    print(\"MSE score. Test: \", mse_test_c)\n",
    "    print(\"---------\")\n",
    "    print(\"MAE score. Train: \", mae_train_c)\n",
    "    print(\"MAE score. Test: \", mae_test_c)\n",
    "    print(\"---------\")\n",
    "    print(\"MdAE score. Train: \", mdae_train_c)\n",
    "    print(\"MdAE score. Test: \", mdae_test_c)"
   ]
  },
  {
   "cell_type": "code",
   "execution_count": 408,
   "metadata": {
    "scrolled": true
   },
   "outputs": [
    {
     "name": "stdout",
     "output_type": "stream",
     "text": [
      "C:\\Users\\Cara\\Documents\\COMPSCI\\1A_PRACTICUM\\Notebooks\n"
     ]
    },
    {
     "data": {
      "text/html": [
       "<div>\n",
       "<style>\n",
       "    .dataframe thead tr:only-child th {\n",
       "        text-align: right;\n",
       "    }\n",
       "\n",
       "    .dataframe thead th {\n",
       "        text-align: left;\n",
       "    }\n",
       "\n",
       "    .dataframe tbody tr th {\n",
       "        vertical-align: top;\n",
       "    }\n",
       "</style>\n",
       "<table border=\"1\" class=\"dataframe\">\n",
       "  <thead>\n",
       "    <tr style=\"text-align: right;\">\n",
       "      <th></th>\n",
       "      <th>Year</th>\n",
       "      <th>Month</th>\n",
       "      <th>Day</th>\n",
       "      <th>Hours</th>\n",
       "      <th>Minute</th>\n",
       "      <th>Second</th>\n",
       "      <th>WeekDay</th>\n",
       "      <th>Timestamp</th>\n",
       "      <th>JourneyPatternID</th>\n",
       "      <th>VehicleJourneyID</th>\n",
       "      <th>StopID</th>\n",
       "      <th>Temperature (C)</th>\n",
       "      <th>Visibility (km)</th>\n",
       "      <th>Wind Speed (km/h)</th>\n",
       "      <th>Cumulative Time Taken</th>\n",
       "      <th>StopSeq</th>\n",
       "    </tr>\n",
       "  </thead>\n",
       "  <tbody>\n",
       "    <tr>\n",
       "      <th>0</th>\n",
       "      <td>2012</td>\n",
       "      <td>11</td>\n",
       "      <td>6</td>\n",
       "      <td>8</td>\n",
       "      <td>59</td>\n",
       "      <td>2</td>\n",
       "      <td>1</td>\n",
       "      <td>1352192342</td>\n",
       "      <td>10001</td>\n",
       "      <td>5461</td>\n",
       "      <td>226</td>\n",
       "      <td>7</td>\n",
       "      <td>10</td>\n",
       "      <td>29.6</td>\n",
       "      <td>0</td>\n",
       "      <td>0</td>\n",
       "    </tr>\n",
       "    <tr>\n",
       "      <th>1</th>\n",
       "      <td>2012</td>\n",
       "      <td>11</td>\n",
       "      <td>6</td>\n",
       "      <td>9</td>\n",
       "      <td>4</td>\n",
       "      <td>41</td>\n",
       "      <td>1</td>\n",
       "      <td>1352192681</td>\n",
       "      <td>10001</td>\n",
       "      <td>5461</td>\n",
       "      <td>231</td>\n",
       "      <td>8</td>\n",
       "      <td>10</td>\n",
       "      <td>31.5</td>\n",
       "      <td>339</td>\n",
       "      <td>5</td>\n",
       "    </tr>\n",
       "    <tr>\n",
       "      <th>2</th>\n",
       "      <td>2012</td>\n",
       "      <td>11</td>\n",
       "      <td>6</td>\n",
       "      <td>9</td>\n",
       "      <td>6</td>\n",
       "      <td>22</td>\n",
       "      <td>1</td>\n",
       "      <td>1352192782</td>\n",
       "      <td>10001</td>\n",
       "      <td>5461</td>\n",
       "      <td>1641</td>\n",
       "      <td>8</td>\n",
       "      <td>10</td>\n",
       "      <td>31.5</td>\n",
       "      <td>440</td>\n",
       "      <td>6</td>\n",
       "    </tr>\n",
       "  </tbody>\n",
       "</table>\n",
       "</div>"
      ],
      "text/plain": [
       "   Year  Month  Day  Hours  Minute  Second  WeekDay   Timestamp  \\\n",
       "0  2012     11    6      8      59       2        1  1352192342   \n",
       "1  2012     11    6      9       4      41        1  1352192681   \n",
       "2  2012     11    6      9       6      22        1  1352192782   \n",
       "\n",
       "   JourneyPatternID  VehicleJourneyID  StopID  Temperature (C)  \\\n",
       "0             10001              5461     226                7   \n",
       "1             10001              5461     231                8   \n",
       "2             10001              5461    1641                8   \n",
       "\n",
       "  Visibility (km) Wind Speed (km/h)  Cumulative Time Taken  StopSeq  \n",
       "0              10              29.6                      0        0  \n",
       "1              10              31.5                    339        5  \n",
       "2              10              31.5                    440        6  "
      ]
     },
     "execution_count": 408,
     "metadata": {},
     "output_type": "execute_result"
    }
   ],
   "source": [
    "print(os.getcwd()) \n",
    "X = df\n",
    "X.head(3)"
   ]
  },
  {
   "cell_type": "code",
   "execution_count": 409,
   "metadata": {
    "collapsed": true
   },
   "outputs": [],
   "source": [
    "cols = X.columns.tolist()"
   ]
  },
  {
   "cell_type": "code",
   "execution_count": 410,
   "metadata": {},
   "outputs": [
    {
     "data": {
      "text/plain": [
       "['Year',\n",
       " 'Month',\n",
       " 'Day',\n",
       " 'Hours',\n",
       " 'Minute',\n",
       " 'Second',\n",
       " 'WeekDay',\n",
       " 'Timestamp',\n",
       " 'JourneyPatternID',\n",
       " 'VehicleJourneyID',\n",
       " 'StopID',\n",
       " 'Temperature (C)',\n",
       " 'Visibility (km)',\n",
       " 'Wind Speed (km/h)',\n",
       " 'Cumulative Time Taken',\n",
       " 'StopSeq']"
      ]
     },
     "execution_count": 410,
     "metadata": {},
     "output_type": "execute_result"
    }
   ],
   "source": [
    "cols"
   ]
  },
  {
   "cell_type": "code",
   "execution_count": 411,
   "metadata": {},
   "outputs": [
    {
     "data": {
      "text/plain": [
       "['Year',\n",
       " 'Month',\n",
       " 'Day',\n",
       " 'Hours',\n",
       " 'Minute',\n",
       " 'Second',\n",
       " 'WeekDay',\n",
       " 'Timestamp',\n",
       " 'JourneyPatternID',\n",
       " 'VehicleJourneyID',\n",
       " 'StopID',\n",
       " 'Temperature (C)',\n",
       " 'Visibility (km)',\n",
       " 'Wind Speed (km/h)',\n",
       " 'StopSeq',\n",
       " 'Cumulative Time Taken']"
      ]
     },
     "execution_count": 411,
     "metadata": {},
     "output_type": "execute_result"
    }
   ],
   "source": [
    "# set CTT as last column, ['Year','Month',\n",
    "# 'Day', 'Hours', 'Minute', 'Second', 'WeekDay', 'Timestamp',\n",
    "# 'JourneyPatternID', 'VehicleJourneyID', 'StopID', 'Temperature (C)', 'Visibility (km)', 'StopSeq', 'Cumulative Time Taken']\n",
    "\n",
    "#REORDER COLUMNS, TARGET FEATURE AS LAST COL TO MAKE DF SLICING FOR COORELATION SECTION SIMPLER\n",
    "cols = cols[:14] + cols[-1:] + cols[-2:-1] #RUN ONCE\n",
    "cols"
   ]
  },
  {
   "cell_type": "code",
   "execution_count": 412,
   "metadata": {
    "collapsed": true
   },
   "outputs": [],
   "source": [
    "X = X[cols]"
   ]
  },
  {
   "cell_type": "code",
   "execution_count": 413,
   "metadata": {},
   "outputs": [
    {
     "data": {
      "text/plain": [
       "(29527, 16)"
      ]
     },
     "execution_count": 413,
     "metadata": {},
     "output_type": "execute_result"
    }
   ],
   "source": [
    "X.shape"
   ]
  },
  {
   "cell_type": "code",
   "execution_count": 414,
   "metadata": {},
   "outputs": [
    {
     "data": {
      "text/plain": [
       "Year                      int64\n",
       "Month                     int64\n",
       "Day                       int64\n",
       "Hours                     int64\n",
       "Minute                    int64\n",
       "Second                    int64\n",
       "WeekDay                   int64\n",
       "Timestamp                 int64\n",
       "JourneyPatternID          int64\n",
       "VehicleJourneyID          int64\n",
       "StopID                    int64\n",
       "Temperature (C)           int64\n",
       "Visibility (km)          object\n",
       "Wind Speed (km/h)        object\n",
       "StopSeq                   int32\n",
       "Cumulative Time Taken     int64\n",
       "dtype: object"
      ]
     },
     "execution_count": 414,
     "metadata": {},
     "output_type": "execute_result"
    }
   ],
   "source": [
    "X.dtypes"
   ]
  },
  {
   "cell_type": "code",
   "execution_count": 415,
   "metadata": {},
   "outputs": [
    {
     "data": {
      "text/html": [
       "<div>\n",
       "<style>\n",
       "    .dataframe thead tr:only-child th {\n",
       "        text-align: right;\n",
       "    }\n",
       "\n",
       "    .dataframe thead th {\n",
       "        text-align: left;\n",
       "    }\n",
       "\n",
       "    .dataframe tbody tr th {\n",
       "        vertical-align: top;\n",
       "    }\n",
       "</style>\n",
       "<table border=\"1\" class=\"dataframe\">\n",
       "  <thead>\n",
       "    <tr style=\"text-align: right;\">\n",
       "      <th></th>\n",
       "      <th>Year</th>\n",
       "      <th>Month</th>\n",
       "      <th>Day</th>\n",
       "      <th>Hours</th>\n",
       "      <th>Minute</th>\n",
       "      <th>Second</th>\n",
       "      <th>WeekDay</th>\n",
       "      <th>Timestamp</th>\n",
       "      <th>JourneyPatternID</th>\n",
       "      <th>VehicleJourneyID</th>\n",
       "      <th>StopID</th>\n",
       "      <th>Temperature (C)</th>\n",
       "      <th>Visibility (km)</th>\n",
       "      <th>Wind Speed (km/h)</th>\n",
       "      <th>StopSeq</th>\n",
       "      <th>Cumulative Time Taken</th>\n",
       "    </tr>\n",
       "  </thead>\n",
       "  <tbody>\n",
       "    <tr>\n",
       "      <th>0</th>\n",
       "      <td>2012</td>\n",
       "      <td>11</td>\n",
       "      <td>6</td>\n",
       "      <td>8</td>\n",
       "      <td>59</td>\n",
       "      <td>2</td>\n",
       "      <td>1</td>\n",
       "      <td>1352192342</td>\n",
       "      <td>10001</td>\n",
       "      <td>5461</td>\n",
       "      <td>226</td>\n",
       "      <td>7</td>\n",
       "      <td>10</td>\n",
       "      <td>29.6</td>\n",
       "      <td>0</td>\n",
       "      <td>0</td>\n",
       "    </tr>\n",
       "    <tr>\n",
       "      <th>1</th>\n",
       "      <td>2012</td>\n",
       "      <td>11</td>\n",
       "      <td>6</td>\n",
       "      <td>9</td>\n",
       "      <td>4</td>\n",
       "      <td>41</td>\n",
       "      <td>1</td>\n",
       "      <td>1352192681</td>\n",
       "      <td>10001</td>\n",
       "      <td>5461</td>\n",
       "      <td>231</td>\n",
       "      <td>8</td>\n",
       "      <td>10</td>\n",
       "      <td>31.5</td>\n",
       "      <td>5</td>\n",
       "      <td>339</td>\n",
       "    </tr>\n",
       "    <tr>\n",
       "      <th>2</th>\n",
       "      <td>2012</td>\n",
       "      <td>11</td>\n",
       "      <td>6</td>\n",
       "      <td>9</td>\n",
       "      <td>6</td>\n",
       "      <td>22</td>\n",
       "      <td>1</td>\n",
       "      <td>1352192782</td>\n",
       "      <td>10001</td>\n",
       "      <td>5461</td>\n",
       "      <td>1641</td>\n",
       "      <td>8</td>\n",
       "      <td>10</td>\n",
       "      <td>31.5</td>\n",
       "      <td>6</td>\n",
       "      <td>440</td>\n",
       "    </tr>\n",
       "  </tbody>\n",
       "</table>\n",
       "</div>"
      ],
      "text/plain": [
       "   Year  Month  Day  Hours  Minute  Second  WeekDay   Timestamp  \\\n",
       "0  2012     11    6      8      59       2        1  1352192342   \n",
       "1  2012     11    6      9       4      41        1  1352192681   \n",
       "2  2012     11    6      9       6      22        1  1352192782   \n",
       "\n",
       "   JourneyPatternID  VehicleJourneyID  StopID  Temperature (C)  \\\n",
       "0             10001              5461     226                7   \n",
       "1             10001              5461     231                8   \n",
       "2             10001              5461    1641                8   \n",
       "\n",
       "  Visibility (km) Wind Speed (km/h)  StopSeq  Cumulative Time Taken  \n",
       "0              10              29.6        0                      0  \n",
       "1              10              31.5        5                    339  \n",
       "2              10              31.5        6                    440  "
      ]
     },
     "execution_count": 415,
     "metadata": {},
     "output_type": "execute_result"
    }
   ],
   "source": [
    "X.head(3)"
   ]
  },
  {
   "cell_type": "markdown",
   "metadata": {},
   "source": [
    "Feature selection\n",
    "drop minute, second, timestamp, jpid as features\n",
    "visibility and wind speed need to be corrected, are holding invalid entries, 'Calm' and '-'\n",
    "separate CTT from features as y or target feature"
   ]
  },
  {
   "cell_type": "code",
   "execution_count": 416,
   "metadata": {},
   "outputs": [
    {
     "data": {
      "text/html": [
       "<div>\n",
       "<style>\n",
       "    .dataframe thead tr:only-child th {\n",
       "        text-align: right;\n",
       "    }\n",
       "\n",
       "    .dataframe thead th {\n",
       "        text-align: left;\n",
       "    }\n",
       "\n",
       "    .dataframe tbody tr th {\n",
       "        vertical-align: top;\n",
       "    }\n",
       "</style>\n",
       "<table border=\"1\" class=\"dataframe\">\n",
       "  <thead>\n",
       "    <tr style=\"text-align: right;\">\n",
       "      <th></th>\n",
       "      <th>count</th>\n",
       "      <th>unique</th>\n",
       "      <th>top</th>\n",
       "      <th>freq</th>\n",
       "      <th>mean</th>\n",
       "      <th>std</th>\n",
       "      <th>min</th>\n",
       "      <th>25%</th>\n",
       "      <th>50%</th>\n",
       "      <th>75%</th>\n",
       "      <th>max</th>\n",
       "    </tr>\n",
       "  </thead>\n",
       "  <tbody>\n",
       "    <tr>\n",
       "      <th>Year</th>\n",
       "      <td>29527</td>\n",
       "      <td>NaN</td>\n",
       "      <td>NaN</td>\n",
       "      <td>NaN</td>\n",
       "      <td>2012.54</td>\n",
       "      <td>0.497983</td>\n",
       "      <td>2012</td>\n",
       "      <td>2012</td>\n",
       "      <td>2013</td>\n",
       "      <td>2013</td>\n",
       "      <td>2013</td>\n",
       "    </tr>\n",
       "    <tr>\n",
       "      <th>Month</th>\n",
       "      <td>29527</td>\n",
       "      <td>NaN</td>\n",
       "      <td>NaN</td>\n",
       "      <td>NaN</td>\n",
       "      <td>5.55041</td>\n",
       "      <td>4.97983</td>\n",
       "      <td>1</td>\n",
       "      <td>1</td>\n",
       "      <td>1</td>\n",
       "      <td>11</td>\n",
       "      <td>11</td>\n",
       "    </tr>\n",
       "    <tr>\n",
       "      <th>Day</th>\n",
       "      <td>29527</td>\n",
       "      <td>NaN</td>\n",
       "      <td>NaN</td>\n",
       "      <td>NaN</td>\n",
       "      <td>16.2612</td>\n",
       "      <td>8.00646</td>\n",
       "      <td>1</td>\n",
       "      <td>9</td>\n",
       "      <td>16</td>\n",
       "      <td>23</td>\n",
       "      <td>31</td>\n",
       "    </tr>\n",
       "    <tr>\n",
       "      <th>Hours</th>\n",
       "      <td>29527</td>\n",
       "      <td>NaN</td>\n",
       "      <td>NaN</td>\n",
       "      <td>NaN</td>\n",
       "      <td>14.7491</td>\n",
       "      <td>3.79143</td>\n",
       "      <td>7</td>\n",
       "      <td>12</td>\n",
       "      <td>14</td>\n",
       "      <td>17</td>\n",
       "      <td>23</td>\n",
       "    </tr>\n",
       "    <tr>\n",
       "      <th>Minute</th>\n",
       "      <td>29527</td>\n",
       "      <td>NaN</td>\n",
       "      <td>NaN</td>\n",
       "      <td>NaN</td>\n",
       "      <td>28.601</td>\n",
       "      <td>17.427</td>\n",
       "      <td>0</td>\n",
       "      <td>14</td>\n",
       "      <td>29</td>\n",
       "      <td>43</td>\n",
       "      <td>59</td>\n",
       "    </tr>\n",
       "    <tr>\n",
       "      <th>Second</th>\n",
       "      <td>29527</td>\n",
       "      <td>NaN</td>\n",
       "      <td>NaN</td>\n",
       "      <td>NaN</td>\n",
       "      <td>27.3912</td>\n",
       "      <td>16.8702</td>\n",
       "      <td>0</td>\n",
       "      <td>10</td>\n",
       "      <td>27</td>\n",
       "      <td>44</td>\n",
       "      <td>59</td>\n",
       "    </tr>\n",
       "    <tr>\n",
       "      <th>WeekDay</th>\n",
       "      <td>29527</td>\n",
       "      <td>NaN</td>\n",
       "      <td>NaN</td>\n",
       "      <td>NaN</td>\n",
       "      <td>2.65496</td>\n",
       "      <td>1.85128</td>\n",
       "      <td>0</td>\n",
       "      <td>1</td>\n",
       "      <td>3</td>\n",
       "      <td>4</td>\n",
       "      <td>6</td>\n",
       "    </tr>\n",
       "    <tr>\n",
       "      <th>Timestamp</th>\n",
       "      <td>29527</td>\n",
       "      <td>NaN</td>\n",
       "      <td>NaN</td>\n",
       "      <td>NaN</td>\n",
       "      <td>1.35597e+09</td>\n",
       "      <td>2.62801e+06</td>\n",
       "      <td>1.35219e+09</td>\n",
       "      <td>1.35332e+09</td>\n",
       "      <td>1.35723e+09</td>\n",
       "      <td>1.35837e+09</td>\n",
       "      <td>1.35963e+09</td>\n",
       "    </tr>\n",
       "    <tr>\n",
       "      <th>JourneyPatternID</th>\n",
       "      <td>29527</td>\n",
       "      <td>NaN</td>\n",
       "      <td>NaN</td>\n",
       "      <td>NaN</td>\n",
       "      <td>10001</td>\n",
       "      <td>0</td>\n",
       "      <td>10001</td>\n",
       "      <td>10001</td>\n",
       "      <td>10001</td>\n",
       "      <td>10001</td>\n",
       "      <td>10001</td>\n",
       "    </tr>\n",
       "    <tr>\n",
       "      <th>VehicleJourneyID</th>\n",
       "      <td>29527</td>\n",
       "      <td>NaN</td>\n",
       "      <td>NaN</td>\n",
       "      <td>NaN</td>\n",
       "      <td>6625.3</td>\n",
       "      <td>3536.16</td>\n",
       "      <td>4608</td>\n",
       "      <td>4667</td>\n",
       "      <td>4811</td>\n",
       "      <td>5500</td>\n",
       "      <td>16392</td>\n",
       "    </tr>\n",
       "    <tr>\n",
       "      <th>StopID</th>\n",
       "      <td>29527</td>\n",
       "      <td>NaN</td>\n",
       "      <td>NaN</td>\n",
       "      <td>NaN</td>\n",
       "      <td>363.86</td>\n",
       "      <td>561.183</td>\n",
       "      <td>44</td>\n",
       "      <td>214</td>\n",
       "      <td>340</td>\n",
       "      <td>356</td>\n",
       "      <td>4432</td>\n",
       "    </tr>\n",
       "    <tr>\n",
       "      <th>Temperature (C)</th>\n",
       "      <td>29527</td>\n",
       "      <td>NaN</td>\n",
       "      <td>NaN</td>\n",
       "      <td>NaN</td>\n",
       "      <td>6.85515</td>\n",
       "      <td>3.75572</td>\n",
       "      <td>-5</td>\n",
       "      <td>4</td>\n",
       "      <td>7</td>\n",
       "      <td>10</td>\n",
       "      <td>14</td>\n",
       "    </tr>\n",
       "    <tr>\n",
       "      <th>Visibility (km)</th>\n",
       "      <td>29527</td>\n",
       "      <td>28</td>\n",
       "      <td>10</td>\n",
       "      <td>24294</td>\n",
       "      <td>NaN</td>\n",
       "      <td>NaN</td>\n",
       "      <td>NaN</td>\n",
       "      <td>NaN</td>\n",
       "      <td>NaN</td>\n",
       "      <td>NaN</td>\n",
       "      <td>NaN</td>\n",
       "    </tr>\n",
       "    <tr>\n",
       "      <th>Wind Speed (km/h)</th>\n",
       "      <td>29527</td>\n",
       "      <td>48</td>\n",
       "      <td>24.1</td>\n",
       "      <td>2100</td>\n",
       "      <td>NaN</td>\n",
       "      <td>NaN</td>\n",
       "      <td>NaN</td>\n",
       "      <td>NaN</td>\n",
       "      <td>NaN</td>\n",
       "      <td>NaN</td>\n",
       "      <td>NaN</td>\n",
       "    </tr>\n",
       "    <tr>\n",
       "      <th>StopSeq</th>\n",
       "      <td>29527</td>\n",
       "      <td>NaN</td>\n",
       "      <td>NaN</td>\n",
       "      <td>NaN</td>\n",
       "      <td>20.7499</td>\n",
       "      <td>11.3042</td>\n",
       "      <td>0</td>\n",
       "      <td>13</td>\n",
       "      <td>22</td>\n",
       "      <td>29</td>\n",
       "      <td>41</td>\n",
       "    </tr>\n",
       "    <tr>\n",
       "      <th>Cumulative Time Taken</th>\n",
       "      <td>29527</td>\n",
       "      <td>NaN</td>\n",
       "      <td>NaN</td>\n",
       "      <td>NaN</td>\n",
       "      <td>1463.22</td>\n",
       "      <td>907.245</td>\n",
       "      <td>0</td>\n",
       "      <td>734</td>\n",
       "      <td>1440</td>\n",
       "      <td>2218</td>\n",
       "      <td>4544</td>\n",
       "    </tr>\n",
       "  </tbody>\n",
       "</table>\n",
       "</div>"
      ],
      "text/plain": [
       "                       count unique   top   freq         mean          std  \\\n",
       "Year                   29527    NaN   NaN    NaN      2012.54     0.497983   \n",
       "Month                  29527    NaN   NaN    NaN      5.55041      4.97983   \n",
       "Day                    29527    NaN   NaN    NaN      16.2612      8.00646   \n",
       "Hours                  29527    NaN   NaN    NaN      14.7491      3.79143   \n",
       "Minute                 29527    NaN   NaN    NaN       28.601       17.427   \n",
       "Second                 29527    NaN   NaN    NaN      27.3912      16.8702   \n",
       "WeekDay                29527    NaN   NaN    NaN      2.65496      1.85128   \n",
       "Timestamp              29527    NaN   NaN    NaN  1.35597e+09  2.62801e+06   \n",
       "JourneyPatternID       29527    NaN   NaN    NaN        10001            0   \n",
       "VehicleJourneyID       29527    NaN   NaN    NaN       6625.3      3536.16   \n",
       "StopID                 29527    NaN   NaN    NaN       363.86      561.183   \n",
       "Temperature (C)        29527    NaN   NaN    NaN      6.85515      3.75572   \n",
       "Visibility (km)        29527     28    10  24294          NaN          NaN   \n",
       "Wind Speed (km/h)      29527     48  24.1   2100          NaN          NaN   \n",
       "StopSeq                29527    NaN   NaN    NaN      20.7499      11.3042   \n",
       "Cumulative Time Taken  29527    NaN   NaN    NaN      1463.22      907.245   \n",
       "\n",
       "                               min          25%          50%          75%  \\\n",
       "Year                          2012         2012         2013         2013   \n",
       "Month                            1            1            1           11   \n",
       "Day                              1            9           16           23   \n",
       "Hours                            7           12           14           17   \n",
       "Minute                           0           14           29           43   \n",
       "Second                           0           10           27           44   \n",
       "WeekDay                          0            1            3            4   \n",
       "Timestamp              1.35219e+09  1.35332e+09  1.35723e+09  1.35837e+09   \n",
       "JourneyPatternID             10001        10001        10001        10001   \n",
       "VehicleJourneyID              4608         4667         4811         5500   \n",
       "StopID                          44          214          340          356   \n",
       "Temperature (C)                 -5            4            7           10   \n",
       "Visibility (km)                NaN          NaN          NaN          NaN   \n",
       "Wind Speed (km/h)              NaN          NaN          NaN          NaN   \n",
       "StopSeq                          0           13           22           29   \n",
       "Cumulative Time Taken            0          734         1440         2218   \n",
       "\n",
       "                               max  \n",
       "Year                          2013  \n",
       "Month                           11  \n",
       "Day                             31  \n",
       "Hours                           23  \n",
       "Minute                          59  \n",
       "Second                          59  \n",
       "WeekDay                          6  \n",
       "Timestamp              1.35963e+09  \n",
       "JourneyPatternID             10001  \n",
       "VehicleJourneyID             16392  \n",
       "StopID                        4432  \n",
       "Temperature (C)                 14  \n",
       "Visibility (km)                NaN  \n",
       "Wind Speed (km/h)              NaN  \n",
       "StopSeq                         41  \n",
       "Cumulative Time Taken         4544  "
      ]
     },
     "execution_count": 416,
     "metadata": {},
     "output_type": "execute_result"
    }
   ],
   "source": [
    "X.describe(include='all').T "
   ]
  },
  {
   "cell_type": "code",
   "execution_count": 417,
   "metadata": {
    "scrolled": true
   },
   "outputs": [
    {
     "data": {
      "text/plain": [
       "Year                     0\n",
       "Month                    0\n",
       "Day                      0\n",
       "Hours                    0\n",
       "Minute                   0\n",
       "Second                   0\n",
       "WeekDay                  0\n",
       "Timestamp                0\n",
       "JourneyPatternID         0\n",
       "VehicleJourneyID         0\n",
       "StopID                   0\n",
       "Temperature (C)          0\n",
       "Visibility (km)          0\n",
       "Wind Speed (km/h)        0\n",
       "StopSeq                  0\n",
       "Cumulative Time Taken    0\n",
       "dtype: int64"
      ]
     },
     "execution_count": 417,
     "metadata": {},
     "output_type": "execute_result"
    }
   ],
   "source": [
    "X.isnull().sum() #no null values in set"
   ]
  },
  {
   "cell_type": "markdown",
   "metadata": {},
   "source": [
    "# Set data types for features, group by numeric, categorical"
   ]
  },
  {
   "cell_type": "code",
   "execution_count": 418,
   "metadata": {
    "collapsed": true,
    "scrolled": true
   },
   "outputs": [],
   "source": [
    "X['VehicleJourneyID'] = X['VehicleJourneyID'].astype('category')"
   ]
  },
  {
   "cell_type": "code",
   "execution_count": 419,
   "metadata": {
    "collapsed": true
   },
   "outputs": [],
   "source": [
    "X['WeekDay'] = X['WeekDay'].astype('category')"
   ]
  },
  {
   "cell_type": "code",
   "execution_count": 420,
   "metadata": {
    "collapsed": true
   },
   "outputs": [],
   "source": [
    "X['StopID'] = X['StopID'].astype('category')"
   ]
  },
  {
   "cell_type": "code",
   "execution_count": 421,
   "metadata": {
    "collapsed": true
   },
   "outputs": [],
   "source": [
    "X['Month'] = X['Month'].astype('category')"
   ]
  },
  {
   "cell_type": "code",
   "execution_count": 422,
   "metadata": {
    "collapsed": true
   },
   "outputs": [],
   "source": [
    "X['Year'] = X['Year'].astype('category')"
   ]
  },
  {
   "cell_type": "code",
   "execution_count": 423,
   "metadata": {
    "collapsed": true
   },
   "outputs": [],
   "source": [
    "X['Hours'] = X['Hours'].astype('category')"
   ]
  },
  {
   "cell_type": "code",
   "execution_count": 424,
   "metadata": {},
   "outputs": [
    {
     "data": {
      "text/html": [
       "<div>\n",
       "<style>\n",
       "    .dataframe thead tr:only-child th {\n",
       "        text-align: right;\n",
       "    }\n",
       "\n",
       "    .dataframe thead th {\n",
       "        text-align: left;\n",
       "    }\n",
       "\n",
       "    .dataframe tbody tr th {\n",
       "        vertical-align: top;\n",
       "    }\n",
       "</style>\n",
       "<table border=\"1\" class=\"dataframe\">\n",
       "  <thead>\n",
       "    <tr style=\"text-align: right;\">\n",
       "      <th></th>\n",
       "      <th>Year</th>\n",
       "      <th>Month</th>\n",
       "      <th>Day</th>\n",
       "      <th>Hours</th>\n",
       "      <th>Minute</th>\n",
       "      <th>Second</th>\n",
       "      <th>WeekDay</th>\n",
       "      <th>Timestamp</th>\n",
       "      <th>JourneyPatternID</th>\n",
       "      <th>VehicleJourneyID</th>\n",
       "      <th>StopID</th>\n",
       "      <th>Temperature (C)</th>\n",
       "      <th>Visibility (km)</th>\n",
       "      <th>Wind Speed (km/h)</th>\n",
       "      <th>StopSeq</th>\n",
       "      <th>Cumulative Time Taken</th>\n",
       "    </tr>\n",
       "  </thead>\n",
       "  <tbody>\n",
       "    <tr>\n",
       "      <th>0</th>\n",
       "      <td>2012</td>\n",
       "      <td>11</td>\n",
       "      <td>6</td>\n",
       "      <td>8</td>\n",
       "      <td>59</td>\n",
       "      <td>2</td>\n",
       "      <td>1</td>\n",
       "      <td>1352192342</td>\n",
       "      <td>10001</td>\n",
       "      <td>5461</td>\n",
       "      <td>226</td>\n",
       "      <td>7</td>\n",
       "      <td>10</td>\n",
       "      <td>29.6</td>\n",
       "      <td>0</td>\n",
       "      <td>0</td>\n",
       "    </tr>\n",
       "    <tr>\n",
       "      <th>1</th>\n",
       "      <td>2012</td>\n",
       "      <td>11</td>\n",
       "      <td>6</td>\n",
       "      <td>9</td>\n",
       "      <td>4</td>\n",
       "      <td>41</td>\n",
       "      <td>1</td>\n",
       "      <td>1352192681</td>\n",
       "      <td>10001</td>\n",
       "      <td>5461</td>\n",
       "      <td>231</td>\n",
       "      <td>8</td>\n",
       "      <td>10</td>\n",
       "      <td>31.5</td>\n",
       "      <td>5</td>\n",
       "      <td>339</td>\n",
       "    </tr>\n",
       "    <tr>\n",
       "      <th>2</th>\n",
       "      <td>2012</td>\n",
       "      <td>11</td>\n",
       "      <td>6</td>\n",
       "      <td>9</td>\n",
       "      <td>6</td>\n",
       "      <td>22</td>\n",
       "      <td>1</td>\n",
       "      <td>1352192782</td>\n",
       "      <td>10001</td>\n",
       "      <td>5461</td>\n",
       "      <td>1641</td>\n",
       "      <td>8</td>\n",
       "      <td>10</td>\n",
       "      <td>31.5</td>\n",
       "      <td>6</td>\n",
       "      <td>440</td>\n",
       "    </tr>\n",
       "  </tbody>\n",
       "</table>\n",
       "</div>"
      ],
      "text/plain": [
       "   Year Month  Day Hours  Minute  Second WeekDay   Timestamp  \\\n",
       "0  2012    11    6     8      59       2       1  1352192342   \n",
       "1  2012    11    6     9       4      41       1  1352192681   \n",
       "2  2012    11    6     9       6      22       1  1352192782   \n",
       "\n",
       "   JourneyPatternID VehicleJourneyID StopID  Temperature (C) Visibility (km)  \\\n",
       "0             10001             5461    226                7              10   \n",
       "1             10001             5461    231                8              10   \n",
       "2             10001             5461   1641                8              10   \n",
       "\n",
       "  Wind Speed (km/h)  StopSeq  Cumulative Time Taken  \n",
       "0              29.6        0                      0  \n",
       "1              31.5        5                    339  \n",
       "2              31.5        6                    440  "
      ]
     },
     "execution_count": 424,
     "metadata": {},
     "output_type": "execute_result"
    }
   ],
   "source": [
    "X.head(3)"
   ]
  },
  {
   "cell_type": "code",
   "execution_count": 425,
   "metadata": {},
   "outputs": [
    {
     "data": {
      "text/plain": [
       "Year                     category\n",
       "Month                    category\n",
       "Day                         int64\n",
       "Hours                    category\n",
       "Minute                      int64\n",
       "Second                      int64\n",
       "WeekDay                  category\n",
       "Timestamp                   int64\n",
       "JourneyPatternID            int64\n",
       "VehicleJourneyID         category\n",
       "StopID                   category\n",
       "Temperature (C)             int64\n",
       "Visibility (km)            object\n",
       "Wind Speed (km/h)          object\n",
       "StopSeq                     int32\n",
       "Cumulative Time Taken       int64\n",
       "dtype: object"
      ]
     },
     "execution_count": 425,
     "metadata": {},
     "output_type": "execute_result"
    }
   ],
   "source": [
    "X.dtypes"
   ]
  },
  {
   "cell_type": "markdown",
   "metadata": {},
   "source": [
    "# CREATING NUMERIC AND CATEGORICAL FEATURE LISTS"
   ]
  },
  {
   "cell_type": "markdown",
   "metadata": {},
   "source": [
    "Initial features reduced after Pearson Correlation"
   ]
  },
  {
   "cell_type": "code",
   "execution_count": 426,
   "metadata": {},
   "outputs": [],
   "source": [
    "# numeric_variables = ['Day','Minute', 'Second', 'Timestamp', 'Temperature (C)', 'StopSeq', 'Cumulative Time Taken']\n",
    "# X[numeric_variables].head(3)"
   ]
  },
  {
   "cell_type": "code",
   "execution_count": 427,
   "metadata": {},
   "outputs": [
    {
     "data": {
      "text/html": [
       "<div>\n",
       "<style>\n",
       "    .dataframe thead tr:only-child th {\n",
       "        text-align: right;\n",
       "    }\n",
       "\n",
       "    .dataframe thead th {\n",
       "        text-align: left;\n",
       "    }\n",
       "\n",
       "    .dataframe tbody tr th {\n",
       "        vertical-align: top;\n",
       "    }\n",
       "</style>\n",
       "<table border=\"1\" class=\"dataframe\">\n",
       "  <thead>\n",
       "    <tr style=\"text-align: right;\">\n",
       "      <th></th>\n",
       "      <th>Year</th>\n",
       "      <th>Month</th>\n",
       "      <th>Hours</th>\n",
       "      <th>WeekDay</th>\n",
       "      <th>VehicleJourneyID</th>\n",
       "      <th>StopID</th>\n",
       "    </tr>\n",
       "  </thead>\n",
       "  <tbody>\n",
       "    <tr>\n",
       "      <th>0</th>\n",
       "      <td>2012</td>\n",
       "      <td>11</td>\n",
       "      <td>8</td>\n",
       "      <td>1</td>\n",
       "      <td>5461</td>\n",
       "      <td>226</td>\n",
       "    </tr>\n",
       "    <tr>\n",
       "      <th>1</th>\n",
       "      <td>2012</td>\n",
       "      <td>11</td>\n",
       "      <td>9</td>\n",
       "      <td>1</td>\n",
       "      <td>5461</td>\n",
       "      <td>231</td>\n",
       "    </tr>\n",
       "    <tr>\n",
       "      <th>2</th>\n",
       "      <td>2012</td>\n",
       "      <td>11</td>\n",
       "      <td>9</td>\n",
       "      <td>1</td>\n",
       "      <td>5461</td>\n",
       "      <td>1641</td>\n",
       "    </tr>\n",
       "    <tr>\n",
       "      <th>3</th>\n",
       "      <td>2012</td>\n",
       "      <td>11</td>\n",
       "      <td>9</td>\n",
       "      <td>1</td>\n",
       "      <td>5461</td>\n",
       "      <td>1642</td>\n",
       "    </tr>\n",
       "    <tr>\n",
       "      <th>4</th>\n",
       "      <td>2012</td>\n",
       "      <td>11</td>\n",
       "      <td>9</td>\n",
       "      <td>1</td>\n",
       "      <td>5461</td>\n",
       "      <td>47</td>\n",
       "    </tr>\n",
       "  </tbody>\n",
       "</table>\n",
       "</div>"
      ],
      "text/plain": [
       "   Year Month Hours WeekDay VehicleJourneyID StopID\n",
       "0  2012    11     8       1             5461    226\n",
       "1  2012    11     9       1             5461    231\n",
       "2  2012    11     9       1             5461   1641\n",
       "3  2012    11     9       1             5461   1642\n",
       "4  2012    11     9       1             5461     47"
      ]
     },
     "execution_count": 427,
     "metadata": {},
     "output_type": "execute_result"
    }
   ],
   "source": [
    "categorical_variables = list(X.dtypes[(X.dtypes == \"category\")].index.values)\n",
    "X[categorical_variables].head()"
   ]
  },
  {
   "cell_type": "code",
   "execution_count": 428,
   "metadata": {},
   "outputs": [
    {
     "data": {
      "text/html": [
       "<div>\n",
       "<style>\n",
       "    .dataframe thead tr:only-child th {\n",
       "        text-align: right;\n",
       "    }\n",
       "\n",
       "    .dataframe thead th {\n",
       "        text-align: left;\n",
       "    }\n",
       "\n",
       "    .dataframe tbody tr th {\n",
       "        vertical-align: top;\n",
       "    }\n",
       "</style>\n",
       "<table border=\"1\" class=\"dataframe\">\n",
       "  <thead>\n",
       "    <tr style=\"text-align: right;\">\n",
       "      <th></th>\n",
       "      <th>Year</th>\n",
       "      <th>Month</th>\n",
       "      <th>Hours</th>\n",
       "      <th>WeekDay</th>\n",
       "      <th>VehicleJourneyID</th>\n",
       "      <th>StopID</th>\n",
       "      <th>StopSeq</th>\n",
       "    </tr>\n",
       "  </thead>\n",
       "  <tbody>\n",
       "    <tr>\n",
       "      <th>0</th>\n",
       "      <td>2012</td>\n",
       "      <td>11</td>\n",
       "      <td>8</td>\n",
       "      <td>1</td>\n",
       "      <td>5461</td>\n",
       "      <td>226</td>\n",
       "      <td>0</td>\n",
       "    </tr>\n",
       "    <tr>\n",
       "      <th>1</th>\n",
       "      <td>2012</td>\n",
       "      <td>11</td>\n",
       "      <td>9</td>\n",
       "      <td>1</td>\n",
       "      <td>5461</td>\n",
       "      <td>231</td>\n",
       "      <td>5</td>\n",
       "    </tr>\n",
       "    <tr>\n",
       "      <th>2</th>\n",
       "      <td>2012</td>\n",
       "      <td>11</td>\n",
       "      <td>9</td>\n",
       "      <td>1</td>\n",
       "      <td>5461</td>\n",
       "      <td>1641</td>\n",
       "      <td>6</td>\n",
       "    </tr>\n",
       "    <tr>\n",
       "      <th>3</th>\n",
       "      <td>2012</td>\n",
       "      <td>11</td>\n",
       "      <td>9</td>\n",
       "      <td>1</td>\n",
       "      <td>5461</td>\n",
       "      <td>1642</td>\n",
       "      <td>7</td>\n",
       "    </tr>\n",
       "    <tr>\n",
       "      <th>4</th>\n",
       "      <td>2012</td>\n",
       "      <td>11</td>\n",
       "      <td>9</td>\n",
       "      <td>1</td>\n",
       "      <td>5461</td>\n",
       "      <td>47</td>\n",
       "      <td>15</td>\n",
       "    </tr>\n",
       "  </tbody>\n",
       "</table>\n",
       "</div>"
      ],
      "text/plain": [
       "   Year Month Hours WeekDay VehicleJourneyID StopID  StopSeq\n",
       "0  2012    11     8       1             5461    226        0\n",
       "1  2012    11     9       1             5461    231        5\n",
       "2  2012    11     9       1             5461   1641        6\n",
       "3  2012    11     9       1             5461   1642        7\n",
       "4  2012    11     9       1             5461     47       15"
      ]
     },
     "execution_count": 428,
     "metadata": {},
     "output_type": "execute_result"
    }
   ],
   "source": [
    "features = categorical_variables + numeric_variables \n",
    "X[features].head(5)"
   ]
  },
  {
   "cell_type": "code",
   "execution_count": 429,
   "metadata": {},
   "outputs": [
    {
     "name": "stdout",
     "output_type": "stream",
     "text": [
      "['Year', 'Month', 'Hours', 'WeekDay', 'VehicleJourneyID', 'StopID']\n"
     ]
    }
   ],
   "source": [
    "# Factorize categorical features\n",
    "X_categ_list = X.dtypes[X.dtypes=='category'].index.values.tolist()\n",
    "print(X_categ_list)"
   ]
  },
  {
   "cell_type": "code",
   "execution_count": 430,
   "metadata": {
    "collapsed": true
   },
   "outputs": [],
   "source": [
    "#factorialise categorical features of X\n",
    "for element in categorical_variables:\n",
    "    X_categories = pd.factorize(X[element])\n",
    "    #test_categories = pd.factorize(test[element])\n",
    "    X[element] = X_categories[0]\n",
    "    #test[element] = test_categories[0]\n"
   ]
  },
  {
   "cell_type": "code",
   "execution_count": 431,
   "metadata": {},
   "outputs": [],
   "source": [
    "#not used\n",
    "# float_list = test.dtypes[test.dtypes == 'float64'].index.values.tolist()\n",
    "# print(float_list)\n",
    "# for element in float_list:\n",
    "#     test[element] = test[element].astype(int)"
   ]
  },
  {
   "cell_type": "markdown",
   "metadata": {},
   "source": [
    "# CORRELATION BETWEEN FEATURES"
   ]
  },
  {
   "cell_type": "code",
   "execution_count": 432,
   "metadata": {},
   "outputs": [
    {
     "data": {
      "text/html": [
       "<div>\n",
       "<style>\n",
       "    .dataframe thead tr:only-child th {\n",
       "        text-align: right;\n",
       "    }\n",
       "\n",
       "    .dataframe thead th {\n",
       "        text-align: left;\n",
       "    }\n",
       "\n",
       "    .dataframe tbody tr th {\n",
       "        vertical-align: top;\n",
       "    }\n",
       "</style>\n",
       "<table border=\"1\" class=\"dataframe\">\n",
       "  <thead>\n",
       "    <tr style=\"text-align: right;\">\n",
       "      <th></th>\n",
       "      <th>Year</th>\n",
       "      <th>Month</th>\n",
       "      <th>Day</th>\n",
       "      <th>Hours</th>\n",
       "      <th>Minute</th>\n",
       "      <th>Second</th>\n",
       "      <th>WeekDay</th>\n",
       "      <th>Timestamp</th>\n",
       "      <th>JourneyPatternID</th>\n",
       "      <th>VehicleJourneyID</th>\n",
       "      <th>StopID</th>\n",
       "      <th>Temperature (C)</th>\n",
       "      <th>StopSeq</th>\n",
       "      <th>Cumulative Time Taken</th>\n",
       "    </tr>\n",
       "  </thead>\n",
       "  <tbody>\n",
       "    <tr>\n",
       "      <th>Year</th>\n",
       "      <td>1.000000</td>\n",
       "      <td>1.000000</td>\n",
       "      <td>-0.127607</td>\n",
       "      <td>0.044428</td>\n",
       "      <td>-0.002044</td>\n",
       "      <td>0.012274</td>\n",
       "      <td>0.060379</td>\n",
       "      <td>0.965332</td>\n",
       "      <td>NaN</td>\n",
       "      <td>0.865507</td>\n",
       "      <td>0.003852</td>\n",
       "      <td>-0.256948</td>\n",
       "      <td>0.011693</td>\n",
       "      <td>0.011189</td>\n",
       "    </tr>\n",
       "    <tr>\n",
       "      <th>Month</th>\n",
       "      <td>1.000000</td>\n",
       "      <td>1.000000</td>\n",
       "      <td>-0.127607</td>\n",
       "      <td>0.044428</td>\n",
       "      <td>-0.002044</td>\n",
       "      <td>0.012274</td>\n",
       "      <td>0.060379</td>\n",
       "      <td>0.965332</td>\n",
       "      <td>NaN</td>\n",
       "      <td>0.865507</td>\n",
       "      <td>0.003852</td>\n",
       "      <td>-0.256948</td>\n",
       "      <td>0.011693</td>\n",
       "      <td>0.011189</td>\n",
       "    </tr>\n",
       "    <tr>\n",
       "      <th>Day</th>\n",
       "      <td>-0.127607</td>\n",
       "      <td>-0.127607</td>\n",
       "      <td>1.000000</td>\n",
       "      <td>-0.024067</td>\n",
       "      <td>-0.005176</td>\n",
       "      <td>0.003869</td>\n",
       "      <td>0.083093</td>\n",
       "      <td>0.135658</td>\n",
       "      <td>NaN</td>\n",
       "      <td>0.162073</td>\n",
       "      <td>-0.000184</td>\n",
       "      <td>-0.383355</td>\n",
       "      <td>-0.014280</td>\n",
       "      <td>0.013922</td>\n",
       "    </tr>\n",
       "    <tr>\n",
       "      <th>Hours</th>\n",
       "      <td>0.044428</td>\n",
       "      <td>0.044428</td>\n",
       "      <td>-0.024067</td>\n",
       "      <td>1.000000</td>\n",
       "      <td>-0.074671</td>\n",
       "      <td>-0.002907</td>\n",
       "      <td>0.036903</td>\n",
       "      <td>0.043197</td>\n",
       "      <td>NaN</td>\n",
       "      <td>0.094279</td>\n",
       "      <td>-0.005523</td>\n",
       "      <td>-0.050366</td>\n",
       "      <td>0.114153</td>\n",
       "      <td>0.010065</td>\n",
       "    </tr>\n",
       "    <tr>\n",
       "      <th>Minute</th>\n",
       "      <td>-0.002044</td>\n",
       "      <td>-0.002044</td>\n",
       "      <td>-0.005176</td>\n",
       "      <td>-0.074671</td>\n",
       "      <td>1.000000</td>\n",
       "      <td>0.010034</td>\n",
       "      <td>-0.014728</td>\n",
       "      <td>-0.003395</td>\n",
       "      <td>NaN</td>\n",
       "      <td>0.001474</td>\n",
       "      <td>0.014351</td>\n",
       "      <td>0.003901</td>\n",
       "      <td>0.094758</td>\n",
       "      <td>0.085169</td>\n",
       "    </tr>\n",
       "    <tr>\n",
       "      <th>Second</th>\n",
       "      <td>0.012274</td>\n",
       "      <td>0.012274</td>\n",
       "      <td>0.003869</td>\n",
       "      <td>-0.002907</td>\n",
       "      <td>0.010034</td>\n",
       "      <td>1.000000</td>\n",
       "      <td>-0.007524</td>\n",
       "      <td>0.013271</td>\n",
       "      <td>NaN</td>\n",
       "      <td>0.012295</td>\n",
       "      <td>0.003657</td>\n",
       "      <td>-0.004050</td>\n",
       "      <td>-0.000718</td>\n",
       "      <td>-0.003313</td>\n",
       "    </tr>\n",
       "    <tr>\n",
       "      <th>WeekDay</th>\n",
       "      <td>0.060379</td>\n",
       "      <td>0.060379</td>\n",
       "      <td>0.083093</td>\n",
       "      <td>0.036903</td>\n",
       "      <td>-0.014728</td>\n",
       "      <td>-0.007524</td>\n",
       "      <td>1.000000</td>\n",
       "      <td>0.082357</td>\n",
       "      <td>NaN</td>\n",
       "      <td>0.093863</td>\n",
       "      <td>-0.007566</td>\n",
       "      <td>-0.021231</td>\n",
       "      <td>-0.003656</td>\n",
       "      <td>-0.015329</td>\n",
       "    </tr>\n",
       "    <tr>\n",
       "      <th>Timestamp</th>\n",
       "      <td>0.965332</td>\n",
       "      <td>0.965332</td>\n",
       "      <td>0.135658</td>\n",
       "      <td>0.043197</td>\n",
       "      <td>-0.003395</td>\n",
       "      <td>0.013271</td>\n",
       "      <td>0.082357</td>\n",
       "      <td>1.000000</td>\n",
       "      <td>NaN</td>\n",
       "      <td>0.907526</td>\n",
       "      <td>0.003777</td>\n",
       "      <td>-0.357781</td>\n",
       "      <td>0.008551</td>\n",
       "      <td>0.014926</td>\n",
       "    </tr>\n",
       "    <tr>\n",
       "      <th>JourneyPatternID</th>\n",
       "      <td>NaN</td>\n",
       "      <td>NaN</td>\n",
       "      <td>NaN</td>\n",
       "      <td>NaN</td>\n",
       "      <td>NaN</td>\n",
       "      <td>NaN</td>\n",
       "      <td>NaN</td>\n",
       "      <td>NaN</td>\n",
       "      <td>NaN</td>\n",
       "      <td>NaN</td>\n",
       "      <td>NaN</td>\n",
       "      <td>NaN</td>\n",
       "      <td>NaN</td>\n",
       "      <td>NaN</td>\n",
       "    </tr>\n",
       "    <tr>\n",
       "      <th>VehicleJourneyID</th>\n",
       "      <td>0.865507</td>\n",
       "      <td>0.865507</td>\n",
       "      <td>0.162073</td>\n",
       "      <td>0.094279</td>\n",
       "      <td>0.001474</td>\n",
       "      <td>0.012295</td>\n",
       "      <td>0.093863</td>\n",
       "      <td>0.907526</td>\n",
       "      <td>NaN</td>\n",
       "      <td>1.000000</td>\n",
       "      <td>-0.000068</td>\n",
       "      <td>-0.386667</td>\n",
       "      <td>0.012227</td>\n",
       "      <td>0.005693</td>\n",
       "    </tr>\n",
       "    <tr>\n",
       "      <th>StopID</th>\n",
       "      <td>0.003852</td>\n",
       "      <td>0.003852</td>\n",
       "      <td>-0.000184</td>\n",
       "      <td>-0.005523</td>\n",
       "      <td>0.014351</td>\n",
       "      <td>0.003657</td>\n",
       "      <td>-0.007566</td>\n",
       "      <td>0.003777</td>\n",
       "      <td>NaN</td>\n",
       "      <td>-0.000068</td>\n",
       "      <td>1.000000</td>\n",
       "      <td>0.010057</td>\n",
       "      <td>0.408281</td>\n",
       "      <td>0.405394</td>\n",
       "    </tr>\n",
       "    <tr>\n",
       "      <th>Temperature (C)</th>\n",
       "      <td>-0.256948</td>\n",
       "      <td>-0.256948</td>\n",
       "      <td>-0.383355</td>\n",
       "      <td>-0.050366</td>\n",
       "      <td>0.003901</td>\n",
       "      <td>-0.004050</td>\n",
       "      <td>-0.021231</td>\n",
       "      <td>-0.357781</td>\n",
       "      <td>NaN</td>\n",
       "      <td>-0.386667</td>\n",
       "      <td>0.010057</td>\n",
       "      <td>1.000000</td>\n",
       "      <td>0.015036</td>\n",
       "      <td>0.010438</td>\n",
       "    </tr>\n",
       "    <tr>\n",
       "      <th>StopSeq</th>\n",
       "      <td>0.011693</td>\n",
       "      <td>0.011693</td>\n",
       "      <td>-0.014280</td>\n",
       "      <td>0.114153</td>\n",
       "      <td>0.094758</td>\n",
       "      <td>-0.000718</td>\n",
       "      <td>-0.003656</td>\n",
       "      <td>0.008551</td>\n",
       "      <td>NaN</td>\n",
       "      <td>0.012227</td>\n",
       "      <td>0.408281</td>\n",
       "      <td>0.015036</td>\n",
       "      <td>1.000000</td>\n",
       "      <td>0.943639</td>\n",
       "    </tr>\n",
       "    <tr>\n",
       "      <th>Cumulative Time Taken</th>\n",
       "      <td>0.011189</td>\n",
       "      <td>0.011189</td>\n",
       "      <td>0.013922</td>\n",
       "      <td>0.010065</td>\n",
       "      <td>0.085169</td>\n",
       "      <td>-0.003313</td>\n",
       "      <td>-0.015329</td>\n",
       "      <td>0.014926</td>\n",
       "      <td>NaN</td>\n",
       "      <td>0.005693</td>\n",
       "      <td>0.405394</td>\n",
       "      <td>0.010438</td>\n",
       "      <td>0.943639</td>\n",
       "      <td>1.000000</td>\n",
       "    </tr>\n",
       "  </tbody>\n",
       "</table>\n",
       "</div>"
      ],
      "text/plain": [
       "                           Year     Month       Day     Hours    Minute  \\\n",
       "Year                   1.000000  1.000000 -0.127607  0.044428 -0.002044   \n",
       "Month                  1.000000  1.000000 -0.127607  0.044428 -0.002044   \n",
       "Day                   -0.127607 -0.127607  1.000000 -0.024067 -0.005176   \n",
       "Hours                  0.044428  0.044428 -0.024067  1.000000 -0.074671   \n",
       "Minute                -0.002044 -0.002044 -0.005176 -0.074671  1.000000   \n",
       "Second                 0.012274  0.012274  0.003869 -0.002907  0.010034   \n",
       "WeekDay                0.060379  0.060379  0.083093  0.036903 -0.014728   \n",
       "Timestamp              0.965332  0.965332  0.135658  0.043197 -0.003395   \n",
       "JourneyPatternID            NaN       NaN       NaN       NaN       NaN   \n",
       "VehicleJourneyID       0.865507  0.865507  0.162073  0.094279  0.001474   \n",
       "StopID                 0.003852  0.003852 -0.000184 -0.005523  0.014351   \n",
       "Temperature (C)       -0.256948 -0.256948 -0.383355 -0.050366  0.003901   \n",
       "StopSeq                0.011693  0.011693 -0.014280  0.114153  0.094758   \n",
       "Cumulative Time Taken  0.011189  0.011189  0.013922  0.010065  0.085169   \n",
       "\n",
       "                         Second   WeekDay  Timestamp  JourneyPatternID  \\\n",
       "Year                   0.012274  0.060379   0.965332               NaN   \n",
       "Month                  0.012274  0.060379   0.965332               NaN   \n",
       "Day                    0.003869  0.083093   0.135658               NaN   \n",
       "Hours                 -0.002907  0.036903   0.043197               NaN   \n",
       "Minute                 0.010034 -0.014728  -0.003395               NaN   \n",
       "Second                 1.000000 -0.007524   0.013271               NaN   \n",
       "WeekDay               -0.007524  1.000000   0.082357               NaN   \n",
       "Timestamp              0.013271  0.082357   1.000000               NaN   \n",
       "JourneyPatternID            NaN       NaN        NaN               NaN   \n",
       "VehicleJourneyID       0.012295  0.093863   0.907526               NaN   \n",
       "StopID                 0.003657 -0.007566   0.003777               NaN   \n",
       "Temperature (C)       -0.004050 -0.021231  -0.357781               NaN   \n",
       "StopSeq               -0.000718 -0.003656   0.008551               NaN   \n",
       "Cumulative Time Taken -0.003313 -0.015329   0.014926               NaN   \n",
       "\n",
       "                       VehicleJourneyID    StopID  Temperature (C)   StopSeq  \\\n",
       "Year                           0.865507  0.003852        -0.256948  0.011693   \n",
       "Month                          0.865507  0.003852        -0.256948  0.011693   \n",
       "Day                            0.162073 -0.000184        -0.383355 -0.014280   \n",
       "Hours                          0.094279 -0.005523        -0.050366  0.114153   \n",
       "Minute                         0.001474  0.014351         0.003901  0.094758   \n",
       "Second                         0.012295  0.003657        -0.004050 -0.000718   \n",
       "WeekDay                        0.093863 -0.007566        -0.021231 -0.003656   \n",
       "Timestamp                      0.907526  0.003777        -0.357781  0.008551   \n",
       "JourneyPatternID                    NaN       NaN              NaN       NaN   \n",
       "VehicleJourneyID               1.000000 -0.000068        -0.386667  0.012227   \n",
       "StopID                        -0.000068  1.000000         0.010057  0.408281   \n",
       "Temperature (C)               -0.386667  0.010057         1.000000  0.015036   \n",
       "StopSeq                        0.012227  0.408281         0.015036  1.000000   \n",
       "Cumulative Time Taken          0.005693  0.405394         0.010438  0.943639   \n",
       "\n",
       "                       Cumulative Time Taken  \n",
       "Year                                0.011189  \n",
       "Month                               0.011189  \n",
       "Day                                 0.013922  \n",
       "Hours                               0.010065  \n",
       "Minute                              0.085169  \n",
       "Second                             -0.003313  \n",
       "WeekDay                            -0.015329  \n",
       "Timestamp                           0.014926  \n",
       "JourneyPatternID                         NaN  \n",
       "VehicleJourneyID                    0.005693  \n",
       "StopID                              0.405394  \n",
       "Temperature (C)                     0.010438  \n",
       "StopSeq                             0.943639  \n",
       "Cumulative Time Taken               1.000000  "
      ]
     },
     "execution_count": 432,
     "metadata": {},
     "output_type": "execute_result"
    }
   ],
   "source": [
    "# # Display correlation, weak correlation separately, ensembling required\n",
    "pearson = X.corr(method='pearson')\n",
    "pearson"
   ]
  },
  {
   "cell_type": "code",
   "execution_count": 433,
   "metadata": {},
   "outputs": [
    {
     "data": {
      "text/plain": [
       "Temperature (C)     0.010438\n",
       "VehicleJourneyID    0.005693\n",
       "Minute              0.085169\n",
       "WeekDay            -0.015329\n",
       "StopSeq             0.943639\n",
       "Timestamp           0.014926\n",
       "Day                 0.013922\n",
       "Month               0.011189\n",
       "Year                0.011189\n",
       "StopID              0.405394\n",
       "Hours               0.010065\n",
       "JourneyPatternID         NaN\n",
       "Name: Cumulative Time Taken, dtype: float64"
      ]
     },
     "execution_count": 433,
     "metadata": {},
     "output_type": "execute_result"
    }
   ],
   "source": [
    "#make list of feature based on importance to target feature\n",
    "pearson = X.corr(method='pearson')\n",
    "corr_with_CTT = pearson.iloc[-1][:-1]\n",
    "corr_with_CTT[abs(corr_with_CTT).argsort()[::-1]][:12] "
   ]
  },
  {
   "cell_type": "code",
   "execution_count": 434,
   "metadata": {},
   "outputs": [
    {
     "name": "stdout",
     "output_type": "stream",
     "text": [
      "['Temperature (C)', 'VehicleJourneyID', 'Minute', 'WeekDay', 'StopSeq', 'Timestamp', 'Day', 'Month', 'Year', 'StopID', 'Hours', 'JourneyPatternID']\n"
     ]
    }
   ],
   "source": [
    "#make list of features by importance, should be ordered by most important to least\n",
    "features_list = corr_with_CTT[abs(corr_with_CTT).argsort()[::-1]][:12].index.values.tolist()\n",
    "print(features_list)"
   ]
  },
  {
   "cell_type": "code",
   "execution_count": 435,
   "metadata": {
    "collapsed": true
   },
   "outputs": [],
   "source": [
    "#previous approach: separate target feature at the beginning\n",
    "# y = X.pop('Cumulative Time Taken')"
   ]
  },
  {
   "cell_type": "markdown",
   "metadata": {},
   "source": [
    "# FINAL FEATURE CHOICE AFTER PEARSON CORRELATION REVIEW"
   ]
  },
  {
   "cell_type": "code",
   "execution_count": 436,
   "metadata": {
    "collapsed": true
   },
   "outputs": [],
   "source": [
    "categorical_variables = ['Month', 'Hours', 'WeekDay','StopID']"
   ]
  },
  {
   "cell_type": "code",
   "execution_count": 437,
   "metadata": {
    "collapsed": true
   },
   "outputs": [],
   "source": [
    "numeric_variables = ['StopSeq']"
   ]
  },
  {
   "cell_type": "code",
   "execution_count": 438,
   "metadata": {
    "collapsed": true
   },
   "outputs": [],
   "source": [
    "target_feature = ['Cumulative Time Taken']"
   ]
  },
  {
   "cell_type": "code",
   "execution_count": 439,
   "metadata": {},
   "outputs": [
    {
     "data": {
      "text/html": [
       "<div>\n",
       "<style>\n",
       "    .dataframe thead tr:only-child th {\n",
       "        text-align: right;\n",
       "    }\n",
       "\n",
       "    .dataframe thead th {\n",
       "        text-align: left;\n",
       "    }\n",
       "\n",
       "    .dataframe tbody tr th {\n",
       "        vertical-align: top;\n",
       "    }\n",
       "</style>\n",
       "<table border=\"1\" class=\"dataframe\">\n",
       "  <thead>\n",
       "    <tr style=\"text-align: right;\">\n",
       "      <th></th>\n",
       "      <th>Month</th>\n",
       "      <th>Hours</th>\n",
       "      <th>WeekDay</th>\n",
       "      <th>StopID</th>\n",
       "      <th>StopSeq</th>\n",
       "      <th>Cumulative Time Taken</th>\n",
       "    </tr>\n",
       "  </thead>\n",
       "  <tbody>\n",
       "    <tr>\n",
       "      <th>0</th>\n",
       "      <td>0</td>\n",
       "      <td>0</td>\n",
       "      <td>0</td>\n",
       "      <td>0</td>\n",
       "      <td>0</td>\n",
       "      <td>0</td>\n",
       "    </tr>\n",
       "    <tr>\n",
       "      <th>1</th>\n",
       "      <td>0</td>\n",
       "      <td>1</td>\n",
       "      <td>0</td>\n",
       "      <td>1</td>\n",
       "      <td>5</td>\n",
       "      <td>339</td>\n",
       "    </tr>\n",
       "    <tr>\n",
       "      <th>2</th>\n",
       "      <td>0</td>\n",
       "      <td>1</td>\n",
       "      <td>0</td>\n",
       "      <td>2</td>\n",
       "      <td>6</td>\n",
       "      <td>440</td>\n",
       "    </tr>\n",
       "    <tr>\n",
       "      <th>3</th>\n",
       "      <td>0</td>\n",
       "      <td>1</td>\n",
       "      <td>0</td>\n",
       "      <td>3</td>\n",
       "      <td>7</td>\n",
       "      <td>536</td>\n",
       "    </tr>\n",
       "    <tr>\n",
       "      <th>4</th>\n",
       "      <td>0</td>\n",
       "      <td>1</td>\n",
       "      <td>0</td>\n",
       "      <td>4</td>\n",
       "      <td>15</td>\n",
       "      <td>1000</td>\n",
       "    </tr>\n",
       "  </tbody>\n",
       "</table>\n",
       "</div>"
      ],
      "text/plain": [
       "   Month  Hours  WeekDay  StopID  StopSeq  Cumulative Time Taken\n",
       "0      0      0        0       0        0                      0\n",
       "1      0      1        0       1        5                    339\n",
       "2      0      1        0       2        6                    440\n",
       "3      0      1        0       3        7                    536\n",
       "4      0      1        0       4       15                   1000"
      ]
     },
     "execution_count": 439,
     "metadata": {},
     "output_type": "execute_result"
    }
   ],
   "source": [
    "features_list = categorical_variables + numeric_variables + target_feature\n",
    "X[features_list].head(5)"
   ]
  },
  {
   "cell_type": "code",
   "execution_count": 440,
   "metadata": {
    "collapsed": true
   },
   "outputs": [],
   "source": [
    "no_target = categorical_variables + numeric_variables"
   ]
  },
  {
   "cell_type": "code",
   "execution_count": 441,
   "metadata": {
    "collapsed": true
   },
   "outputs": [],
   "source": [
    "X = X[features_list]"
   ]
  },
  {
   "cell_type": "code",
   "execution_count": 442,
   "metadata": {},
   "outputs": [
    {
     "data": {
      "text/html": [
       "<div>\n",
       "<style>\n",
       "    .dataframe thead tr:only-child th {\n",
       "        text-align: right;\n",
       "    }\n",
       "\n",
       "    .dataframe thead th {\n",
       "        text-align: left;\n",
       "    }\n",
       "\n",
       "    .dataframe tbody tr th {\n",
       "        vertical-align: top;\n",
       "    }\n",
       "</style>\n",
       "<table border=\"1\" class=\"dataframe\">\n",
       "  <thead>\n",
       "    <tr style=\"text-align: right;\">\n",
       "      <th></th>\n",
       "      <th>Month</th>\n",
       "      <th>Hours</th>\n",
       "      <th>WeekDay</th>\n",
       "      <th>StopID</th>\n",
       "      <th>StopSeq</th>\n",
       "      <th>Cumulative Time Taken</th>\n",
       "    </tr>\n",
       "  </thead>\n",
       "  <tbody>\n",
       "    <tr>\n",
       "      <th>0</th>\n",
       "      <td>0</td>\n",
       "      <td>0</td>\n",
       "      <td>0</td>\n",
       "      <td>0</td>\n",
       "      <td>0</td>\n",
       "      <td>0</td>\n",
       "    </tr>\n",
       "    <tr>\n",
       "      <th>1</th>\n",
       "      <td>0</td>\n",
       "      <td>1</td>\n",
       "      <td>0</td>\n",
       "      <td>1</td>\n",
       "      <td>5</td>\n",
       "      <td>339</td>\n",
       "    </tr>\n",
       "    <tr>\n",
       "      <th>2</th>\n",
       "      <td>0</td>\n",
       "      <td>1</td>\n",
       "      <td>0</td>\n",
       "      <td>2</td>\n",
       "      <td>6</td>\n",
       "      <td>440</td>\n",
       "    </tr>\n",
       "    <tr>\n",
       "      <th>3</th>\n",
       "      <td>0</td>\n",
       "      <td>1</td>\n",
       "      <td>0</td>\n",
       "      <td>3</td>\n",
       "      <td>7</td>\n",
       "      <td>536</td>\n",
       "    </tr>\n",
       "  </tbody>\n",
       "</table>\n",
       "</div>"
      ],
      "text/plain": [
       "   Month  Hours  WeekDay  StopID  StopSeq  Cumulative Time Taken\n",
       "0      0      0        0       0        0                      0\n",
       "1      0      1        0       1        5                    339\n",
       "2      0      1        0       2        6                    440\n",
       "3      0      1        0       3        7                    536"
      ]
     },
     "execution_count": 442,
     "metadata": {},
     "output_type": "execute_result"
    }
   ],
   "source": [
    "X.head(4)"
   ]
  },
  {
   "cell_type": "code",
   "execution_count": 443,
   "metadata": {},
   "outputs": [
    {
     "data": {
      "text/plain": [
       "(29527, 6)"
      ]
     },
     "execution_count": 443,
     "metadata": {},
     "output_type": "execute_result"
    }
   ],
   "source": [
    "X.shape"
   ]
  },
  {
   "cell_type": "markdown",
   "metadata": {},
   "source": [
    "# SPLITING X INTO TRAINING, TEST SET (70/30), CTT TARGET KEPT IN EACH DF"
   ]
  },
  {
   "cell_type": "code",
   "execution_count": 444,
   "metadata": {},
   "outputs": [],
   "source": [
    "train_y, test_y = X[:int(len(X)*0.7)], X[int(len(X)*0.7):] \n",
    "train_y, test_y = train_y[target_feature], test_y[target_feature] \n"
   ]
  },
  {
   "cell_type": "code",
   "execution_count": 445,
   "metadata": {
    "collapsed": true
   },
   "outputs": [],
   "source": [
    "X = X[no_target]"
   ]
  },
  {
   "cell_type": "code",
   "execution_count": 446,
   "metadata": {
    "collapsed": true
   },
   "outputs": [],
   "source": [
    "train, test = X[:int(len(X)*0.7)], X[int(len(X)*0.7):] #X, y, test_size=0.3)"
   ]
  },
  {
   "cell_type": "code",
   "execution_count": 447,
   "metadata": {},
   "outputs": [
    {
     "data": {
      "text/plain": [
       "(20668, 5)"
      ]
     },
     "execution_count": 447,
     "metadata": {},
     "output_type": "execute_result"
    }
   ],
   "source": [
    "train.shape"
   ]
  },
  {
   "cell_type": "code",
   "execution_count": 448,
   "metadata": {},
   "outputs": [
    {
     "data": {
      "text/plain": [
       "(20668, 1)"
      ]
     },
     "execution_count": 448,
     "metadata": {},
     "output_type": "execute_result"
    }
   ],
   "source": [
    "train_y.shape"
   ]
  },
  {
   "cell_type": "code",
   "execution_count": 449,
   "metadata": {},
   "outputs": [
    {
     "data": {
      "text/plain": [
       "(8859, 5)"
      ]
     },
     "execution_count": 449,
     "metadata": {},
     "output_type": "execute_result"
    }
   ],
   "source": [
    "test.shape"
   ]
  },
  {
   "cell_type": "code",
   "execution_count": 450,
   "metadata": {},
   "outputs": [
    {
     "data": {
      "text/plain": [
       "(8859, 1)"
      ]
     },
     "execution_count": 450,
     "metadata": {},
     "output_type": "execute_result"
    }
   ],
   "source": [
    "test_y.shape"
   ]
  },
  {
   "cell_type": "code",
   "execution_count": 451,
   "metadata": {},
   "outputs": [
    {
     "data": {
      "text/html": [
       "<div>\n",
       "<style>\n",
       "    .dataframe thead tr:only-child th {\n",
       "        text-align: right;\n",
       "    }\n",
       "\n",
       "    .dataframe thead th {\n",
       "        text-align: left;\n",
       "    }\n",
       "\n",
       "    .dataframe tbody tr th {\n",
       "        vertical-align: top;\n",
       "    }\n",
       "</style>\n",
       "<table border=\"1\" class=\"dataframe\">\n",
       "  <thead>\n",
       "    <tr style=\"text-align: right;\">\n",
       "      <th></th>\n",
       "      <th>Month</th>\n",
       "      <th>Hours</th>\n",
       "      <th>WeekDay</th>\n",
       "      <th>StopID</th>\n",
       "      <th>StopSeq</th>\n",
       "    </tr>\n",
       "  </thead>\n",
       "  <tbody>\n",
       "    <tr>\n",
       "      <th>0</th>\n",
       "      <td>0</td>\n",
       "      <td>0</td>\n",
       "      <td>0</td>\n",
       "      <td>0</td>\n",
       "      <td>0</td>\n",
       "    </tr>\n",
       "    <tr>\n",
       "      <th>1</th>\n",
       "      <td>0</td>\n",
       "      <td>1</td>\n",
       "      <td>0</td>\n",
       "      <td>1</td>\n",
       "      <td>5</td>\n",
       "    </tr>\n",
       "    <tr>\n",
       "      <th>2</th>\n",
       "      <td>0</td>\n",
       "      <td>1</td>\n",
       "      <td>0</td>\n",
       "      <td>2</td>\n",
       "      <td>6</td>\n",
       "    </tr>\n",
       "  </tbody>\n",
       "</table>\n",
       "</div>"
      ],
      "text/plain": [
       "   Month  Hours  WeekDay  StopID  StopSeq\n",
       "0      0      0        0       0        0\n",
       "1      0      1        0       1        5\n",
       "2      0      1        0       2        6"
      ]
     },
     "execution_count": 451,
     "metadata": {},
     "output_type": "execute_result"
    }
   ],
   "source": [
    "train.head(3)"
   ]
  },
  {
   "cell_type": "code",
   "execution_count": null,
   "metadata": {
    "collapsed": true
   },
   "outputs": [],
   "source": []
  },
  {
   "cell_type": "code",
   "execution_count": 452,
   "metadata": {},
   "outputs": [
    {
     "data": {
      "text/html": [
       "<div>\n",
       "<style>\n",
       "    .dataframe thead tr:only-child th {\n",
       "        text-align: right;\n",
       "    }\n",
       "\n",
       "    .dataframe thead th {\n",
       "        text-align: left;\n",
       "    }\n",
       "\n",
       "    .dataframe tbody tr th {\n",
       "        vertical-align: top;\n",
       "    }\n",
       "</style>\n",
       "<table border=\"1\" class=\"dataframe\">\n",
       "  <thead>\n",
       "    <tr style=\"text-align: right;\">\n",
       "      <th></th>\n",
       "      <th>Month</th>\n",
       "      <th>Hours</th>\n",
       "      <th>WeekDay</th>\n",
       "      <th>StopID</th>\n",
       "      <th>StopSeq</th>\n",
       "    </tr>\n",
       "  </thead>\n",
       "  <tbody>\n",
       "    <tr>\n",
       "      <th>20668</th>\n",
       "      <td>1</td>\n",
       "      <td>5</td>\n",
       "      <td>6</td>\n",
       "      <td>13</td>\n",
       "      <td>28</td>\n",
       "    </tr>\n",
       "    <tr>\n",
       "      <th>20669</th>\n",
       "      <td>1</td>\n",
       "      <td>5</td>\n",
       "      <td>6</td>\n",
       "      <td>23</td>\n",
       "      <td>30</td>\n",
       "    </tr>\n",
       "    <tr>\n",
       "      <th>20670</th>\n",
       "      <td>1</td>\n",
       "      <td>5</td>\n",
       "      <td>6</td>\n",
       "      <td>24</td>\n",
       "      <td>31</td>\n",
       "    </tr>\n",
       "  </tbody>\n",
       "</table>\n",
       "</div>"
      ],
      "text/plain": [
       "       Month  Hours  WeekDay  StopID  StopSeq\n",
       "20668      1      5        6      13       28\n",
       "20669      1      5        6      23       30\n",
       "20670      1      5        6      24       31"
      ]
     },
     "execution_count": 452,
     "metadata": {},
     "output_type": "execute_result"
    }
   ],
   "source": [
    "test.head(3)"
   ]
  },
  {
   "cell_type": "markdown",
   "metadata": {},
   "source": [
    "Previous slicing approaches"
   ]
  },
  {
   "cell_type": "code",
   "execution_count": 453,
   "metadata": {
    "collapsed": true
   },
   "outputs": [],
   "source": [
    "# # print(len(df))\n",
    "# train_X, test_X = X[:int(len(X)*0.7)], X[int(len(X)*0.7):] #X, y, test_size=0.3)\n",
    "# train_y, test_y = y[:int(len(y)*0.7)], y[int(len(y)*0.7):]\n",
    "# # #df_new1, df_new2 = df[:10, :], df[10:, :]\n",
    "# # print(len(train_X))\n",
    "# print(len(test_y))\n",
    "# print(len(train_y))\n",
    "# print(len(test_y))"
   ]
  },
  {
   "cell_type": "code",
   "execution_count": 454,
   "metadata": {
    "collapsed": true
   },
   "outputs": [],
   "source": [
    "# #70/30 split of entire cleaned dataset for training/testing\n",
    "# #X_train, X_test, y_train, y_test = train_test_split(X[features], y, test_size=0.3)\n",
    "# X_train, X_test, y_train, y_test = train_test_split(X, y, test_size=0.3)\n",
    "# X_train.shape, X_test.shape"
   ]
  },
  {
   "cell_type": "markdown",
   "metadata": {},
   "source": [
    "# Converting training, test sets to matrices for model implementation "
   ]
  },
  {
   "cell_type": "code",
   "execution_count": 455,
   "metadata": {},
   "outputs": [],
   "source": [
    "target_train = train_y.as_matrix() #training model with this matrix\n",
    "features_train = train[no_target].as_matrix() #training model with these feature values\n",
    "features_test = test[no_target].as_matrix() #features values the model will predict CTT from"
   ]
  },
  {
   "cell_type": "code",
   "execution_count": 456,
   "metadata": {
    "collapsed": true
   },
   "outputs": [],
   "source": [
    "# Scale the data, data standardisation recommended for regression models\n",
    "scale = RobustScaler()\n",
    "\n",
    "features_train = scale.fit_transform(features_train)\n",
    "features_test = scale.transform(features_test)"
   ]
  },
  {
   "cell_type": "code",
   "execution_count": 457,
   "metadata": {},
   "outputs": [
    {
     "data": {
      "image/png": "[encoded data removed]",
      "text/plain": [
       "<matplotlib.figure.Figure at 0x1bd592d30f0>"
      ]
     },
     "metadata": {},
     "output_type": "display_data"
    }
   ],
   "source": [
    "#spread of \n",
    "plt.style.use('seaborn-whitegrid')\n",
    "plt.figure(figsize=(14, 7))\n",
    "\n",
    "plt.hist(target_train, bins=200, normed=True, alpha=0.7)\n",
    "\n",
    "plt.xlabel(\"CTT\")\n",
    "plt.title('Travel Time Data');"
   ]
  },
  {
   "cell_type": "code",
   "execution_count": 458,
   "metadata": {},
   "outputs": [
    {
     "name": "stdout",
     "output_type": "stream",
     "text": [
      "['StopSeq'] \n",
      " \n",
      " ['Month', 'Hours', 'WeekDay', 'StopID'] \n",
      " \n",
      " ['Year', 'Month', 'Hours', 'WeekDay', 'VehicleJourneyID', 'StopID', 'StopSeq']\n"
     ]
    }
   ],
   "source": [
    "print(numeric_variables, \"\\n \\n\", categorical_variables, \"\\n \\n\", features)"
   ]
  },
  {
   "cell_type": "code",
   "execution_count": 459,
   "metadata": {
    "collapsed": true
   },
   "outputs": [],
   "source": [
    "# train_CTT = train.pop('Cumulative Time Taken')\n",
    "# train_CTT.shape"
   ]
  },
  {
   "cell_type": "code",
   "execution_count": 460,
   "metadata": {},
   "outputs": [],
   "source": [
    "# print(\"Training: X, y\", len(train_X), len(test_X))\n",
    "# print(\"Test: X, y\", len(train_y), len(test_y))\n",
    "# #print(len(X_train)) #, len(y_train), len(X_test), len(y_test))"
   ]
  },
  {
   "cell_type": "markdown",
   "metadata": {},
   "source": [
    "# generate input dict + predict trip time for rfr"
   ]
  },
  {
   "cell_type": "code",
   "execution_count": 461,
   "metadata": {
    "collapsed": true
   },
   "outputs": [],
   "source": [
    "# columns = list(X_train[features_list])"
   ]
  },
  {
   "cell_type": "code",
   "execution_count": 462,
   "metadata": {},
   "outputs": [],
   "source": [
    "# print(list(train_X[features]))"
   ]
  },
  {
   "cell_type": "markdown",
   "metadata": {},
   "source": [
    "# X_train, X_test, y_train, y_test "
   ]
  },
  {
   "cell_type": "code",
   "execution_count": 295,
   "metadata": {
    "collapsed": true
   },
   "outputs": [],
   "source": [
    "# X_train, X_test, y_train, y_test = train_test_split(features_train, target_train,  #no target, y only\n",
    "#                                                     test_size = 0.3, random_state = 1)\n",
    "# X_train.shape, X_test.shape"
   ]
  },
  {
   "cell_type": "code",
   "execution_count": 463,
   "metadata": {},
   "outputs": [
    {
     "data": {
      "text/plain": [
       "((16534, 5), (4134, 5))"
      ]
     },
     "execution_count": 463,
     "metadata": {},
     "output_type": "execute_result"
    }
   ],
   "source": [
    "train_X, test_X, train_y, test_y = train_test_split(features_train, target_train, \n",
    "                                                    test_size = 0.2, random_state = 1)\n",
    "train_X.shape, test_X.shape"
   ]
  },
  {
   "cell_type": "code",
   "execution_count": 464,
   "metadata": {},
   "outputs": [
    {
     "data": {
      "text/plain": [
       "((16534, 1), (4134, 1))"
      ]
     },
     "execution_count": 464,
     "metadata": {},
     "output_type": "execute_result"
    }
   ],
   "source": [
    "train_y.shape, test_y.shape"
   ]
  },
  {
   "cell_type": "code",
   "execution_count": 465,
   "metadata": {
    "collapsed": true
   },
   "outputs": [],
   "source": [
    "regressor_list = []\n",
    "ev_train = []\n",
    "ev_test = []\n",
    "r2_train = []\n",
    "r2_test = []\n",
    "mse_train = []\n",
    "mse_test = []\n",
    "mae_train = []\n",
    "mae_test = []\n",
    "mdae_train = []\n",
    "mdae_test = []"
   ]
  },
  {
   "cell_type": "code",
   "execution_count": 466,
   "metadata": {
    "collapsed": true
   },
   "outputs": [],
   "source": [
    "#https://www.kaggle.com/olgabelitskaya/regressors\n",
    "def regression(regressor, x_train, x_test, y_train):\n",
    "    reg = regressor\n",
    "    reg.fit(x_train, y_train)\n",
    "    \n",
    "    y_train_reg = reg.predict(x_train) #predictions for train, test sets\n",
    "    y_test_reg = reg.predict(x_test)\n",
    "    \n",
    "    return y_train_reg, y_test_reg"
   ]
  },
  {
   "cell_type": "code",
   "execution_count": 467,
   "metadata": {},
   "outputs": [
    {
     "name": "stderr",
     "output_type": "stream",
     "text": [
      "C:\\Users\\Cara\\Anaconda3\\envs\\summer_project_windows_1_0\\lib\\site-packages\\ipykernel_launcher.py:4: DataConversionWarning: A column-vector y was passed when a 1d array was expected. Please change the shape of y to (n_samples,), for example using ravel().\n",
      "  after removing the cwd from sys.path.\n",
      "C:\\Users\\Cara\\Anaconda3\\envs\\summer_project_windows_1_0\\lib\\site-packages\\sklearn\\utils\\validation.py:526: DataConversionWarning: A column-vector y was passed when a 1d array was expected. Please change the shape of y to (n_samples, ), for example using ravel().\n",
      "  y = column_or_1d(y, warn=True)\n",
      "C:\\Users\\Cara\\Anaconda3\\envs\\summer_project_windows_1_0\\lib\\site-packages\\sklearn\\utils\\validation.py:526: DataConversionWarning: A column-vector y was passed when a 1d array was expected. Please change the shape of y to (n_samples, ), for example using ravel().\n",
      "  y = column_or_1d(y, warn=True)\n"
     ]
    }
   ],
   "source": [
    "# RandomForestRegressor, AdaBoost, GradientBoostRegressor, BaggingRegressor\n",
    "y_train_rfr, y_test_rfr = regression(RandomForestRegressor(), \n",
    "                                     train_X, test_X, train_y)\n",
    "\n",
    "y_train_abr, y_test_abr = regression(AdaBoostRegressor(), \n",
    "                                     train_X, test_X, train_y)\n",
    "\n",
    "y_train_gbr, y_test_gbr = regression(gBR(), \n",
    "                                     train_X, test_X, train_y)\n",
    "\n",
    "y_train_br, y_test_br = regression(BaggingRegressor(), \n",
    "                                   train_X, test_X,  train_y)"
   ]
  },
  {
   "cell_type": "code",
   "execution_count": 468,
   "metadata": {},
   "outputs": [
    {
     "name": "stdout",
     "output_type": "stream",
     "text": [
      "______________________________________________________________________________\n",
      "RandomForestRegressor(bootstrap=True, criterion='mse', max_depth=None,\n",
      "           max_features='auto', max_leaf_nodes=None,\n",
      "           min_impurity_split=1e-07, min_samples_leaf=1,\n",
      "           min_samples_split=2, min_weight_fraction_leaf=0.0,\n",
      "           n_estimators=10, n_jobs=1, oob_score=False, random_state=None,\n",
      "           verbose=0, warm_start=False)\n",
      "______________________________________________________________________________\n",
      "EV score. Train:  0.96922047455\n",
      "EV score. Test:  0.936198457501\n",
      "---------\n",
      "R2 score. Train:  0.969219134011\n",
      "R2 score. Test:  0.936179312686\n",
      "---------\n",
      "MSE score. Train:  25491.8669115\n",
      "MSE score. Test:  51810.7514657\n",
      "---------\n",
      "MAE score. Train:  108.2208033\n",
      "MAE score. Test:  156.02703639\n",
      "---------\n",
      "MdAE score. Train:  70.5343452381\n",
      "MdAE score. Test:  105.291666667\n",
      "______________________________________________________________________________\n",
      "AdaBoostRegressor(base_estimator=None, learning_rate=1.0, loss='linear',\n",
      "         n_estimators=50, random_state=None)\n",
      "______________________________________________________________________________\n",
      "EV score. Train:  0.923370333612\n",
      "EV score. Test:  0.92023941757\n",
      "---------\n",
      "R2 score. Train:  0.918227740714\n",
      "R2 score. Test:  0.914696284157\n",
      "---------\n",
      "MSE score. Train:  67721.5368635\n",
      "MSE score. Test:  69251.0501953\n",
      "---------\n",
      "MAE score. Train:  194.023266959\n",
      "MAE score. Test:  194.795702843\n",
      "---------\n",
      "MdAE score. Train:  136.421028881\n",
      "MdAE score. Test:  140.037974684\n",
      "______________________________________________________________________________\n",
      "GradientBoostingRegressor(alpha=0.9, criterion='friedman_mse', init=None,\n",
      "             learning_rate=0.1, loss='ls', max_depth=3, max_features=None,\n",
      "             max_leaf_nodes=None, min_impurity_split=1e-07,\n",
      "             min_samples_leaf=1, min_samples_split=2,\n",
      "             min_weight_fraction_leaf=0.0, n_estimators=100,\n",
      "             presort='auto', random_state=None, subsample=1.0, verbose=0,\n",
      "             warm_start=False)\n",
      "______________________________________________________________________________\n",
      "EV score. Train:  0.95009591999\n",
      "EV score. Test:  0.948302992294\n",
      "---------\n",
      "R2 score. Train:  0.95009591999\n",
      "R2 score. Test:  0.948299935085\n",
      "---------\n",
      "MSE score. Train:  41329.1869831\n",
      "MSE score. Test:  41971.0179699\n",
      "---------\n",
      "MAE score. Train:  141.730092878\n",
      "MAE score. Test:  142.645302946\n",
      "---------\n",
      "MdAE score. Train:  96.2253697758\n",
      "MdAE score. Test:  97.5646768628\n",
      "______________________________________________________________________________\n",
      "BaggingRegressor(base_estimator=None, bootstrap=True,\n",
      "         bootstrap_features=False, max_features=1.0, max_samples=1.0,\n",
      "         n_estimators=10, n_jobs=1, oob_score=False, random_state=None,\n",
      "         verbose=0, warm_start=False)\n",
      "______________________________________________________________________________\n",
      "EV score. Train:  0.969196103777\n",
      "EV score. Test:  0.937562503754\n",
      "---------\n",
      "R2 score. Train:  0.969196055564\n",
      "R2 score. Test:  0.937537701214\n",
      "---------\n",
      "MSE score. Train:  25510.9798466\n",
      "MSE score. Test:  50707.9878737\n",
      "---------\n",
      "MAE score. Train:  108.379192905\n",
      "MAE score. Test:  155.144236135\n",
      "---------\n",
      "MdAE score. Train:  71.3325\n",
      "MdAE score. Test:  106.09\n"
     ]
    }
   ],
   "source": [
    "scores(RandomForestRegressor(), train_y, test_y, y_train_rfr, y_test_rfr)\n",
    "scores(AdaBoostRegressor(), train_y, test_y, y_train_abr, y_test_abr)\n",
    "scores(gBR(), train_y, test_y, y_train_gbr, y_test_gbr)\n",
    "scores(BaggingRegressor(), train_y, test_y, y_train_br, y_test_br)"
   ]
  },
  {
   "cell_type": "code",
   "execution_count": 469,
   "metadata": {},
   "outputs": [
    {
     "data": {
      "image/png": "[encoded data removed]",
      "text/plain": [
       "<matplotlib.figure.Figure at 0x1bd539a2438>"
      ]
     },
     "metadata": {},
     "output_type": "display_data"
    }
   ],
   "source": [
    "plt.figure(figsize = (16, 7))\n",
    "\n",
    "plt.plot(test_y[0:50], '-o', color = 'black', label='Real Data',\n",
    "         markersize=7, markerfacecolor=\"None\", markeredgewidth=2)\n",
    "\n",
    "plt.plot(y_test_gbr[0:50], '-o', color = 'green', label='Gradient Boost',\n",
    "        markersize=7, markerfacecolor=\"None\", markeredgewidth=2)\n",
    "\n",
    "plt.legend()\n",
    "plt.title(\"Gradient Boost's Predictions vs Real Data\");"
   ]
  },
  {
   "cell_type": "code",
   "execution_count": 470,
   "metadata": {},
   "outputs": [
    {
     "data": {
      "image/png": "[encoded data removed]",
      "text/plain": [
       "<matplotlib.figure.Figure at 0x1bd59d93240>"
      ]
     },
     "metadata": {},
     "output_type": "display_data"
    }
   ],
   "source": [
    "plt.figure(figsize = (16, 7))\n",
    "\n",
    "plt.plot(test_y[0:50], '-o', color = 'black', label='Real Data',\n",
    "         markersize=7, markerfacecolor=\"None\", markeredgewidth=2)\n",
    "\n",
    "plt.plot(y_test_rfr[0:50], '-o', color = 'gold', label='Random Forest',\n",
    "        markersize=7, markerfacecolor=\"None\", markeredgewidth=2)\n",
    "\n",
    "plt.legend()\n",
    "plt.title(\"Random Forest Regressor's Predictions vs Real Data\");"
   ]
  },
  {
   "cell_type": "code",
   "execution_count": 471,
   "metadata": {},
   "outputs": [
    {
     "data": {
      "image/png": "[encoded data removed]",
      "text/plain": [
       "<matplotlib.figure.Figure at 0x1bd5a435128>"
      ]
     },
     "metadata": {},
     "output_type": "display_data"
    }
   ],
   "source": [
    "plt.figure(figsize = (16, 7))\n",
    "\n",
    "plt.plot(y_test[1:50], '-o', color = 'black', label='Real Data',\n",
    "         markersize=7, markerfacecolor=\"None\", markeredgewidth=2)\n",
    "\n",
    "plt.plot(y_test_abr[1:50], '-o', color = 'red', label='Ada Boost',\n",
    "        markersize=7, markerfacecolor=\"None\", markeredgewidth=2)\n",
    "\n",
    "plt.legend()\n",
    "plt.title(\"AdaBoost Regressor's Predictions vs Real Data\");"
   ]
  },
  {
   "cell_type": "code",
   "execution_count": 472,
   "metadata": {},
   "outputs": [
    {
     "data": {
      "image/png": "[encoded data removed]",
      "text/plain": [
       "<matplotlib.figure.Figure at 0x1bd5a7f8dd8>"
      ]
     },
     "metadata": {},
     "output_type": "display_data"
    }
   ],
   "source": [
    "plt.figure(figsize = (16, 7))\n",
    "\n",
    "plt.plot(y_test[0:50], '-o', color = 'black', label='Real Data',\n",
    "         markersize=7, markerfacecolor=\"None\", markeredgewidth=2)\n",
    "\n",
    "plt.plot(y_test_br[0:50], '-o', color = 'orange', label='Bag',\n",
    "        markersize=7, markerfacecolor=\"None\", markeredgewidth=2)\n",
    "\n",
    "plt.legend()\n",
    "plt.title(\"Bagging Regressor's Predictions vs Real Data\");"
   ]
  },
  {
   "cell_type": "code",
   "execution_count": 502,
   "metadata": {},
   "outputs": [
    {
     "data": {
      "image/png": "[encoded data removed]",
      "text/plain": [
       "<matplotlib.figure.Figure at 0x1bd59dbaef0>"
      ]
     },
     "metadata": {},
     "output_type": "display_data"
    }
   ],
   "source": [
    "plt.figure(figsize = (16, 7))\n",
    "\n",
    "plt.plot(y_test[0:50], '-o', color = 'black', label='Real Data',\n",
    "         markersize=7, markerfacecolor=\"None\", markeredgewidth=2)\n",
    "\n",
    "plt.plot(y_test_rfr[0:50], '-o', color = 'blue', label='Random Forest',\n",
    "        markersize=7, markerfacecolor=\"None\", markeredgewidth=2)\n",
    "\n",
    "plt.plot(y_test_abr[0:50], '-o', color = 'red', label='Ada Boost',\n",
    "        markersize=7, markerfacecolor=\"None\", markeredgewidth=2)\n",
    "\n",
    "plt.plot(y_test_br[0:50], '-o', color = 'gold', label='Bagging',\n",
    "        markersize=7, markerfacecolor=\"None\", markeredgewidth=2)\n",
    "\n",
    "plt.plot(y_test_gbr[0:50], '-o', color = 'green', label='Gradient',\n",
    "        markersize=7, markerfacecolor=\"None\", markeredgewidth=2)\n",
    "\n",
    "plt.legend()\n",
    "plt.title(\"Regressors' Predictions vs Real Data\");"
   ]
  },
  {
   "cell_type": "code",
   "execution_count": 474,
   "metadata": {},
   "outputs": [],
   "source": [
    "# #based on scoring, RFR performed best when predicting test set\n",
    "# model = RandomForestRegressor(n_estimators=100, oob_score=True, random_state=42)\n",
    "\n",
    "# model.fit(train_X[features_list], test_y)"
   ]
  },
  {
   "cell_type": "markdown",
   "metadata": {},
   "source": [
    "# RFR Prediction"
   ]
  },
  {
   "cell_type": "code",
   "execution_count": 475,
   "metadata": {},
   "outputs": [
    {
     "name": "stderr",
     "output_type": "stream",
     "text": [
      "C:\\Users\\Cara\\Anaconda3\\envs\\summer_project_windows_1_0\\lib\\site-packages\\ipykernel_launcher.py:3: DataConversionWarning: A column-vector y was passed when a 1d array was expected. Please change the shape of y to (n_samples,), for example using ravel().\n",
      "  This is separate from the ipykernel package so we can avoid doing imports until\n"
     ]
    }
   ],
   "source": [
    "reg = RandomForestRegressor(max_depth=4, n_estimators=182, \n",
    "                                min_samples_leaf=50, min_samples_split=2)\n",
    "reg.fit(features_train, target_train)\n",
    "\n",
    "target_train_predict = reg.predict(features_train)\n",
    "target_test_predict = reg.predict(features_test) #returns test y prediction"
   ]
  },
  {
   "cell_type": "code",
   "execution_count": 476,
   "metadata": {},
   "outputs": [
    {
     "name": "stdout",
     "output_type": "stream",
     "text": [
      "[  1.37097439e+00   2.91149876e+02   2.98131422e+02 ...,   1.75186892e+03\n",
      "   2.12764753e+03   2.13581507e+03]\n"
     ]
    }
   ],
   "source": [
    "print(target_train_predict)\n",
    "#print(target_train_predict[11])"
   ]
  },
  {
   "cell_type": "code",
   "execution_count": 501,
   "metadata": {},
   "outputs": [
    {
     "name": "stdout",
     "output_type": "stream",
     "text": [
      "20668\n",
      "8859\n"
     ]
    }
   ],
   "source": [
    "print(len(target_train_predict))\n",
    "print(len(target_test_predict))"
   ]
  },
  {
   "cell_type": "code",
   "execution_count": 478,
   "metadata": {},
   "outputs": [
    {
     "name": "stdout",
     "output_type": "stream",
     "text": [
      "8859\n"
     ]
    }
   ],
   "source": [
    "print(len(target_predict))"
   ]
  },
  {
   "cell_type": "code",
   "execution_count": 498,
   "metadata": {},
   "outputs": [
    {
     "data": {
      "text/plain": [
       "(4134,)"
      ]
     },
     "execution_count": 498,
     "metadata": {},
     "output_type": "execute_result"
    }
   ],
   "source": [
    "y_test.shape"
   ]
  },
  {
   "cell_type": "code",
   "execution_count": 492,
   "metadata": {
    "collapsed": true
   },
   "outputs": [],
   "source": [
    "import numpy\n",
    "numpy.set_printoptions(threshold=numpy.nan)"
   ]
  },
  {
   "cell_type": "code",
   "execution_count": 493,
   "metadata": {},
   "outputs": [],
   "source": [
    "# test_y.interpolate(axis=1).values.reshape(data.shape)"
   ]
  },
  {
   "cell_type": "code",
   "execution_count": 497,
   "metadata": {},
   "outputs": [
    {
     "ename": "ValueError",
     "evalue": "arrays must all be same length",
     "output_type": "error",
     "traceback": [
      "\u001b[1;31m---------------------------------------------------------------------------\u001b[0m",
      "\u001b[1;31mValueError\u001b[0m                                Traceback (most recent call last)",
      "\u001b[1;32m<ipython-input-497-ed67ffbab026>\u001b[0m in \u001b[0;36m<module>\u001b[1;34m()\u001b[0m\n\u001b[0;32m      2\u001b[0m \u001b[0mtarget_predict\u001b[0m \u001b[1;33m=\u001b[0m \u001b[1;33m[\u001b[0m\u001b[1;34m\"{0:.2f}\"\u001b[0m\u001b[1;33m.\u001b[0m\u001b[0mformat\u001b[0m\u001b[1;33m(\u001b[0m\u001b[0mx\u001b[0m\u001b[1;33m)\u001b[0m \u001b[1;32mfor\u001b[0m \u001b[0mx\u001b[0m \u001b[1;32min\u001b[0m \u001b[0mtarget_test_predict\u001b[0m\u001b[1;33m]\u001b[0m\u001b[1;33m\u001b[0m\u001b[0m\n\u001b[0;32m      3\u001b[0m \u001b[1;33m\u001b[0m\u001b[0m\n\u001b[1;32m----> 4\u001b[1;33m \u001b[0msubmission\u001b[0m \u001b[1;33m=\u001b[0m \u001b[0mpd\u001b[0m\u001b[1;33m.\u001b[0m\u001b[0mDataFrame\u001b[0m\u001b[1;33m(\u001b[0m\u001b[1;33m{\u001b[0m\u001b[1;34m\"Cumulative Time Taken\"\u001b[0m\u001b[1;33m:\u001b[0m \u001b[0my_test\u001b[0m\u001b[1;33m,\u001b[0m \u001b[1;34m\"Prediction_CTT\"\u001b[0m\u001b[1;33m:\u001b[0m \u001b[0mtarget_predict\u001b[0m\u001b[1;33m}\u001b[0m\u001b[1;33m)\u001b[0m\u001b[1;33m\u001b[0m\u001b[0m\n\u001b[0m\u001b[0;32m      5\u001b[0m \u001b[0mprint\u001b[0m\u001b[1;33m(\u001b[0m\u001b[0msubmission\u001b[0m\u001b[1;33m[\u001b[0m\u001b[1;36m0\u001b[0m\u001b[1;33m:\u001b[0m\u001b[1;36m10\u001b[0m\u001b[1;33m]\u001b[0m\u001b[1;33m)\u001b[0m\u001b[1;33m\u001b[0m\u001b[0m\n",
      "\u001b[1;32mC:\\Users\\Cara\\Anaconda3\\envs\\summer_project_windows_1_0\\lib\\site-packages\\pandas\\core\\frame.py\u001b[0m in \u001b[0;36m__init__\u001b[1;34m(self, data, index, columns, dtype, copy)\u001b[0m\n\u001b[0;32m    273\u001b[0m                                  dtype=dtype, copy=copy)\n\u001b[0;32m    274\u001b[0m         \u001b[1;32melif\u001b[0m \u001b[0misinstance\u001b[0m\u001b[1;33m(\u001b[0m\u001b[0mdata\u001b[0m\u001b[1;33m,\u001b[0m \u001b[0mdict\u001b[0m\u001b[1;33m)\u001b[0m\u001b[1;33m:\u001b[0m\u001b[1;33m\u001b[0m\u001b[0m\n\u001b[1;32m--> 275\u001b[1;33m             \u001b[0mmgr\u001b[0m \u001b[1;33m=\u001b[0m \u001b[0mself\u001b[0m\u001b[1;33m.\u001b[0m\u001b[0m_init_dict\u001b[0m\u001b[1;33m(\u001b[0m\u001b[0mdata\u001b[0m\u001b[1;33m,\u001b[0m \u001b[0mindex\u001b[0m\u001b[1;33m,\u001b[0m \u001b[0mcolumns\u001b[0m\u001b[1;33m,\u001b[0m \u001b[0mdtype\u001b[0m\u001b[1;33m=\u001b[0m\u001b[0mdtype\u001b[0m\u001b[1;33m)\u001b[0m\u001b[1;33m\u001b[0m\u001b[0m\n\u001b[0m\u001b[0;32m    276\u001b[0m         \u001b[1;32melif\u001b[0m \u001b[0misinstance\u001b[0m\u001b[1;33m(\u001b[0m\u001b[0mdata\u001b[0m\u001b[1;33m,\u001b[0m \u001b[0mma\u001b[0m\u001b[1;33m.\u001b[0m\u001b[0mMaskedArray\u001b[0m\u001b[1;33m)\u001b[0m\u001b[1;33m:\u001b[0m\u001b[1;33m\u001b[0m\u001b[0m\n\u001b[0;32m    277\u001b[0m             \u001b[1;32mimport\u001b[0m \u001b[0mnumpy\u001b[0m\u001b[1;33m.\u001b[0m\u001b[0mma\u001b[0m\u001b[1;33m.\u001b[0m\u001b[0mmrecords\u001b[0m \u001b[1;32mas\u001b[0m \u001b[0mmrecords\u001b[0m\u001b[1;33m\u001b[0m\u001b[0m\n",
      "\u001b[1;32mC:\\Users\\Cara\\Anaconda3\\envs\\summer_project_windows_1_0\\lib\\site-packages\\pandas\\core\\frame.py\u001b[0m in \u001b[0;36m_init_dict\u001b[1;34m(self, data, index, columns, dtype)\u001b[0m\n\u001b[0;32m    409\u001b[0m             \u001b[0marrays\u001b[0m \u001b[1;33m=\u001b[0m \u001b[1;33m[\u001b[0m\u001b[0mdata\u001b[0m\u001b[1;33m[\u001b[0m\u001b[0mk\u001b[0m\u001b[1;33m]\u001b[0m \u001b[1;32mfor\u001b[0m \u001b[0mk\u001b[0m \u001b[1;32min\u001b[0m \u001b[0mkeys\u001b[0m\u001b[1;33m]\u001b[0m\u001b[1;33m\u001b[0m\u001b[0m\n\u001b[0;32m    410\u001b[0m \u001b[1;33m\u001b[0m\u001b[0m\n\u001b[1;32m--> 411\u001b[1;33m         \u001b[1;32mreturn\u001b[0m \u001b[0m_arrays_to_mgr\u001b[0m\u001b[1;33m(\u001b[0m\u001b[0marrays\u001b[0m\u001b[1;33m,\u001b[0m \u001b[0mdata_names\u001b[0m\u001b[1;33m,\u001b[0m \u001b[0mindex\u001b[0m\u001b[1;33m,\u001b[0m \u001b[0mcolumns\u001b[0m\u001b[1;33m,\u001b[0m \u001b[0mdtype\u001b[0m\u001b[1;33m=\u001b[0m\u001b[0mdtype\u001b[0m\u001b[1;33m)\u001b[0m\u001b[1;33m\u001b[0m\u001b[0m\n\u001b[0m\u001b[0;32m    412\u001b[0m \u001b[1;33m\u001b[0m\u001b[0m\n\u001b[0;32m    413\u001b[0m     \u001b[1;32mdef\u001b[0m \u001b[0m_init_ndarray\u001b[0m\u001b[1;33m(\u001b[0m\u001b[0mself\u001b[0m\u001b[1;33m,\u001b[0m \u001b[0mvalues\u001b[0m\u001b[1;33m,\u001b[0m \u001b[0mindex\u001b[0m\u001b[1;33m,\u001b[0m \u001b[0mcolumns\u001b[0m\u001b[1;33m,\u001b[0m \u001b[0mdtype\u001b[0m\u001b[1;33m=\u001b[0m\u001b[1;32mNone\u001b[0m\u001b[1;33m,\u001b[0m \u001b[0mcopy\u001b[0m\u001b[1;33m=\u001b[0m\u001b[1;32mFalse\u001b[0m\u001b[1;33m)\u001b[0m\u001b[1;33m:\u001b[0m\u001b[1;33m\u001b[0m\u001b[0m\n",
      "\u001b[1;32mC:\\Users\\Cara\\Anaconda3\\envs\\summer_project_windows_1_0\\lib\\site-packages\\pandas\\core\\frame.py\u001b[0m in \u001b[0;36m_arrays_to_mgr\u001b[1;34m(arrays, arr_names, index, columns, dtype)\u001b[0m\n\u001b[0;32m   5592\u001b[0m     \u001b[1;31m# figure out the index, if necessary\u001b[0m\u001b[1;33m\u001b[0m\u001b[1;33m\u001b[0m\u001b[0m\n\u001b[0;32m   5593\u001b[0m     \u001b[1;32mif\u001b[0m \u001b[0mindex\u001b[0m \u001b[1;32mis\u001b[0m \u001b[1;32mNone\u001b[0m\u001b[1;33m:\u001b[0m\u001b[1;33m\u001b[0m\u001b[0m\n\u001b[1;32m-> 5594\u001b[1;33m         \u001b[0mindex\u001b[0m \u001b[1;33m=\u001b[0m \u001b[0mextract_index\u001b[0m\u001b[1;33m(\u001b[0m\u001b[0marrays\u001b[0m\u001b[1;33m)\u001b[0m\u001b[1;33m\u001b[0m\u001b[0m\n\u001b[0m\u001b[0;32m   5595\u001b[0m     \u001b[1;32melse\u001b[0m\u001b[1;33m:\u001b[0m\u001b[1;33m\u001b[0m\u001b[0m\n\u001b[0;32m   5596\u001b[0m         \u001b[0mindex\u001b[0m \u001b[1;33m=\u001b[0m \u001b[0m_ensure_index\u001b[0m\u001b[1;33m(\u001b[0m\u001b[0mindex\u001b[0m\u001b[1;33m)\u001b[0m\u001b[1;33m\u001b[0m\u001b[0m\n",
      "\u001b[1;32mC:\\Users\\Cara\\Anaconda3\\envs\\summer_project_windows_1_0\\lib\\site-packages\\pandas\\core\\frame.py\u001b[0m in \u001b[0;36mextract_index\u001b[1;34m(data)\u001b[0m\n\u001b[0;32m   5640\u001b[0m             \u001b[0mlengths\u001b[0m \u001b[1;33m=\u001b[0m \u001b[0mlist\u001b[0m\u001b[1;33m(\u001b[0m\u001b[0mset\u001b[0m\u001b[1;33m(\u001b[0m\u001b[0mraw_lengths\u001b[0m\u001b[1;33m)\u001b[0m\u001b[1;33m)\u001b[0m\u001b[1;33m\u001b[0m\u001b[0m\n\u001b[0;32m   5641\u001b[0m             \u001b[1;32mif\u001b[0m \u001b[0mlen\u001b[0m\u001b[1;33m(\u001b[0m\u001b[0mlengths\u001b[0m\u001b[1;33m)\u001b[0m \u001b[1;33m>\u001b[0m \u001b[1;36m1\u001b[0m\u001b[1;33m:\u001b[0m\u001b[1;33m\u001b[0m\u001b[0m\n\u001b[1;32m-> 5642\u001b[1;33m                 \u001b[1;32mraise\u001b[0m \u001b[0mValueError\u001b[0m\u001b[1;33m(\u001b[0m\u001b[1;34m'arrays must all be same length'\u001b[0m\u001b[1;33m)\u001b[0m\u001b[1;33m\u001b[0m\u001b[0m\n\u001b[0m\u001b[0;32m   5643\u001b[0m \u001b[1;33m\u001b[0m\u001b[0m\n\u001b[0;32m   5644\u001b[0m             \u001b[1;32mif\u001b[0m \u001b[0mhave_dicts\u001b[0m\u001b[1;33m:\u001b[0m\u001b[1;33m\u001b[0m\u001b[0m\n",
      "\u001b[1;31mValueError\u001b[0m: arrays must all be same length"
     ]
    }
   ],
   "source": [
    "#reshape test_y\n",
    "target_predict = [\"{0:.2f}\".format(x) for x in target_test_predict]\n",
    "\n",
    "submission = pd.DataFrame({\"Cumulative Time Taken\": y_test, \"Prediction_CTT\": target_predict})\n",
    "print(submission[0:10])\n"
   ]
  },
  {
   "cell_type": "markdown",
   "metadata": {
    "collapsed": true
   },
   "source": [
    "Further Work:\n",
    "check out xgboost, ensembling, other regression models in scikit\n",
    "run model for single day, week, single route\n",
    "create ordered feature importance list from correlation section"
   ]
  }
 ],
 "metadata": {
  "kernelspec": {
   "display_name": "Python 3",
   "language": "python",
   "name": "python3"
  },
  "language_info": {
   "codemirror_mode": {
    "name": "ipython",
    "version": 3
   },
   "file_extension": ".py",
   "mimetype": "text/x-python",
   "name": "python",
   "nbconvert_exporter": "python",
   "pygments_lexer": "ipython3",
   "version": "3.6.1"
  }
 },
 "nbformat": 4,
 "nbformat_minor": 1
}
