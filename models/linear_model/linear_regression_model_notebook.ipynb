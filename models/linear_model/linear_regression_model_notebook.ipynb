{
 "cells": [
  {
   "cell_type": "code",
   "execution_count": 920,
   "metadata": {},
   "outputs": [],
   "source": [
    "import pandas as pd\n",
    "from sklearn import linear_model\n",
    "from sklearn.model_selection import train_test_split\n",
    "import random\n",
    "import numpy as np\n",
    "import os\n",
    "import pickle as pkl\n",
    "from itertools import permutations\n",
    "%matplotlib inline"
   ]
  },
  {
   "cell_type": "code",
   "execution_count": 1075,
   "metadata": {},
   "outputs": [],
   "source": [
    "jpid=\"01450001\"\n",
    "df=pd.read_csv(\"~/Desktop/Summer Project/Linear Model/clean_data/\"+jpid+\"_clean.csv\")"
   ]
  },
  {
   "cell_type": "code",
   "execution_count": 1076,
   "metadata": {},
   "outputs": [
    {
     "data": {
      "text/html": [
       "<div>\n",
       "<style>\n",
       "    .dataframe thead tr:only-child th {\n",
       "        text-align: right;\n",
       "    }\n",
       "\n",
       "    .dataframe thead th {\n",
       "        text-align: left;\n",
       "    }\n",
       "\n",
       "    .dataframe tbody tr th {\n",
       "        vertical-align: top;\n",
       "    }\n",
       "</style>\n",
       "<table border=\"1\" class=\"dataframe\">\n",
       "  <thead>\n",
       "    <tr style=\"text-align: right;\">\n",
       "      <th></th>\n",
       "      <th>Hours</th>\n",
       "      <th>StopSeq</th>\n",
       "      <th>Cumulative Time Taken</th>\n",
       "      <th>WeekDay</th>\n",
       "    </tr>\n",
       "  </thead>\n",
       "  <tbody>\n",
       "    <tr>\n",
       "      <th>Hours</th>\n",
       "      <td>1.000000</td>\n",
       "      <td>0.067784</td>\n",
       "      <td>0.077755</td>\n",
       "      <td>0.006665</td>\n",
       "    </tr>\n",
       "    <tr>\n",
       "      <th>StopSeq</th>\n",
       "      <td>0.067784</td>\n",
       "      <td>1.000000</td>\n",
       "      <td>0.952740</td>\n",
       "      <td>0.012671</td>\n",
       "    </tr>\n",
       "    <tr>\n",
       "      <th>Cumulative Time Taken</th>\n",
       "      <td>0.077755</td>\n",
       "      <td>0.952740</td>\n",
       "      <td>1.000000</td>\n",
       "      <td>-0.002704</td>\n",
       "    </tr>\n",
       "    <tr>\n",
       "      <th>WeekDay</th>\n",
       "      <td>0.006665</td>\n",
       "      <td>0.012671</td>\n",
       "      <td>-0.002704</td>\n",
       "      <td>1.000000</td>\n",
       "    </tr>\n",
       "  </tbody>\n",
       "</table>\n",
       "</div>"
      ],
      "text/plain": [
       "                          Hours   StopSeq  Cumulative Time Taken   WeekDay\n",
       "Hours                  1.000000  0.067784               0.077755  0.006665\n",
       "StopSeq                0.067784  1.000000               0.952740  0.012671\n",
       "Cumulative Time Taken  0.077755  0.952740               1.000000 -0.002704\n",
       "WeekDay                0.006665  0.012671              -0.002704  1.000000"
      ]
     },
     "execution_count": 1076,
     "metadata": {},
     "output_type": "execute_result"
    }
   ],
   "source": [
    "# sns.set(style=\"white\")\n",
    "cols=['Hours','StopSeq','Cumulative Time Taken','WeekDay']\n",
    "df[cols].corr()\n",
    "\n",
    "# mask = np.zeros_like(correlations, dtype=np.bool)\n",
    "# mask[np.triu_indices_from(mask)] = True\n",
    "# f, ax = plt.subplots(figsize=(8, 5))\n",
    "# cmap = sns.diverging_palette(220, 10, as_cmap=True)\n",
    "# sns.heatmap(correlations, annot=True, mask=mask, cmap=cmap, vmax=1, vmin=-1,\n",
    "#             square=True, xticklabels=True, yticklabels=True,\n",
    "#             linewidths=.5, cbar_kws={\"shrink\": .5}, ax=ax)\n",
    "# plt.yticks(rotation = 0)\n",
    "# plt.xticks(rotation = 90)"
   ]
  },
  {
   "cell_type": "code",
   "execution_count": 1077,
   "metadata": {},
   "outputs": [],
   "source": [
    "# replacing '-' visibility entries with average visibility of the rest of the df\n",
    "avg_vis=np.mean((df[df['Visibility (km)']!='-'])['Visibility (km)'].astype(np.float32))\n",
    "df.loc[df['Visibility (km)']=='-','Visibility (km)']=avg_vis\n",
    "df['Visibility (km)']=df['Visibility (km)'].astype(np.float32)"
   ]
  },
  {
   "cell_type": "code",
   "execution_count": 1078,
   "metadata": {},
   "outputs": [],
   "source": [
    "# replacing 'Calm' entries in wind speed with 0\n",
    "df.loc[df['Wind Speed (km/h)']=='Calm','Wind Speed (km/h)']=0\n",
    "df['Wind Speed (km/h)']=df['Wind Speed (km/h)'].astype(np.float32)"
   ]
  },
  {
   "cell_type": "code",
   "execution_count": 1079,
   "metadata": {
    "collapsed": true
   },
   "outputs": [],
   "source": [
    "# day of week and hour are categorical not continuous\n",
    "df['WeekDay']=df['WeekDay'].astype(object)\n",
    "df['Hours']=df['Hours'].astype(object)"
   ]
  },
  {
   "cell_type": "code",
   "execution_count": 1080,
   "metadata": {},
   "outputs": [],
   "source": [
    "# swapping 64 bit fields for 32 bit ones\n",
    "for col in list(df):\n",
    "    if df[col].dtype=='int64':\n",
    "        df[col]=df[col].astype(np.int32)\n",
    "    elif df[col].dtype=='float64':\n",
    "        df[col]=df[col].astype(np.float32)"
   ]
  },
  {
   "cell_type": "code",
   "execution_count": 1081,
   "metadata": {},
   "outputs": [
    {
     "data": {
      "text/plain": [
       "Unnamed: 0                 int32\n",
       "Year                       int32\n",
       "Month                      int32\n",
       "Day                        int32\n",
       "Hours                     object\n",
       "Minute                     int32\n",
       "Second                     int32\n",
       "WeekDay                   object\n",
       "Timestamp                  int32\n",
       "VehicleJourneyID           int32\n",
       "StopID                     int32\n",
       "Temperature (C)            int32\n",
       "Visibility (km)          float32\n",
       "Wind Speed (km/h)        float32\n",
       "Conditions                object\n",
       "StopSeq                    int32\n",
       "Cumulative Time Taken    float32\n",
       "dtype: object"
      ]
     },
     "execution_count": 1081,
     "metadata": {},
     "output_type": "execute_result"
    }
   ],
   "source": [
    "# wtf i dunno\n",
    "df=df[df['Cumulative Time Taken']>=0]\n",
    "df.dtypes"
   ]
  },
  {
   "cell_type": "code",
   "execution_count": 1082,
   "metadata": {},
   "outputs": [],
   "source": [
    "df['WeekDay']=df['WeekDay'].astype(object)\n",
    "df['Hours']=df['Hours'].astype(object)"
   ]
  },
  {
   "cell_type": "code",
   "execution_count": 1083,
   "metadata": {},
   "outputs": [
    {
     "data": {
      "text/plain": [
       "<matplotlib.axes._subplots.AxesSubplot at 0x177885cd828>"
      ]
     },
     "execution_count": 1083,
     "metadata": {},
     "output_type": "execute_result"
    },
    {
     "data": {
      "image/png": "[encoded data removed]",
      "text/plain": [
       "<matplotlib.figure.Figure at 0x17786e2ccf8>"
      ]
     },
     "metadata": {},
     "output_type": "display_data"
    },
    {
     "data": {
      "image/png": "[encoded data removed]",
      "text/plain": [
       "<matplotlib.figure.Figure at 0x177896f65c0>"
      ]
     },
     "metadata": {},
     "output_type": "display_data"
    },
    {
     "data": {
      "image/png": "[encoded data removed]",
      "text/plain": [
       "<matplotlib.figure.Figure at 0x1778530d8d0>"
      ]
     },
     "metadata": {},
     "output_type": "display_data"
    }
   ],
   "source": [
    "df.plot(x='Cumulative Time Taken', y='StopSeq', kind='scatter',title='CTT by StopSeq')\n",
    "df.plot(x='Cumulative Time Taken', y='Hours', kind='scatter',title='CTT by Hour')\n",
    "df.plot(x='Cumulative Time Taken', y='WeekDay', kind='scatter',title='CTT by WeekDay')"
   ]
  },
  {
   "cell_type": "markdown",
   "metadata": {},
   "source": [
    "### Test on full df"
   ]
  },
  {
   "cell_type": "code",
   "execution_count": 1125,
   "metadata": {
    "collapsed": true
   },
   "outputs": [],
   "source": [
    "linreg_df=df[df['StopSeq']!=0]\n",
    "train, test = train_test_split(linreg_df, test_size = 0)"
   ]
  },
  {
   "cell_type": "code",
   "execution_count": 1126,
   "metadata": {
    "collapsed": true
   },
   "outputs": [],
   "source": [
    "X_train = train[['StopSeq','WeekDay','Hours']]\n",
    "y_train = train['Cumulative Time Taken']"
   ]
  },
  {
   "cell_type": "code",
   "execution_count": 1127,
   "metadata": {
    "collapsed": true
   },
   "outputs": [],
   "source": [
    "ols=linear_model.LinearRegression()"
   ]
  },
  {
   "cell_type": "code",
   "execution_count": 1128,
   "metadata": {},
   "outputs": [],
   "source": [
    "model=ols.fit(X_train,y_train)"
   ]
  },
  {
   "cell_type": "code",
   "execution_count": 1129,
   "metadata": {},
   "outputs": [
    {
     "data": {
      "text/plain": [
       "0.90159750895229263"
      ]
     },
     "execution_count": 1129,
     "metadata": {},
     "output_type": "execute_result"
    }
   ],
   "source": [
    "model.score(X_train, y_train)"
   ]
  },
  {
   "cell_type": "code",
   "execution_count": 1141,
   "metadata": {},
   "outputs": [
    {
     "data": {
      "text/plain": [
       "array([ 4595.65958725])"
      ]
     },
     "execution_count": 1141,
     "metadata": {},
     "output_type": "execute_result"
    }
   ],
   "source": [
    "t={'StopSeq':[65],'WeekDay':[6],'Hours':[20]}\n",
    "please=pd.DataFrame.from_dict(t)\n",
    "please=please[['StopSeq','WeekDay','Hours']]\n",
    "model.predict(please)"
   ]
  },
  {
   "cell_type": "code",
   "execution_count": 1124,
   "metadata": {},
   "outputs": [
    {
     "data": {
      "text/plain": [
       "array([ 821.0291145])"
      ]
     },
     "execution_count": 1124,
     "metadata": {},
     "output_type": "execute_result"
    }
   ],
   "source": [
    "t={'StopSeq':[5],'WeekDay':[0],'Hours':[21]}\n",
    "\n",
    "please=pd.DataFrame.from_dict(t)\n",
    "please=please[['StopSeq','WeekDay','Hours']]\n",
    "please\n",
    "model.predict(please)"
   ]
  },
  {
   "cell_type": "code",
   "execution_count": 883,
   "metadata": {
    "collapsed": true
   },
   "outputs": [],
   "source": [
    "pkl.dump(model,open('pickle_files/'+jpid+'.pkl','wb'),pkl.HIGHEST_PROTOCOL)"
   ]
  },
  {
   "cell_type": "code",
   "execution_count": 844,
   "metadata": {},
   "outputs": [
    {
     "name": "stdout",
     "output_type": "stream",
     "text": [
      "689.358943101\n"
     ]
    }
   ],
   "source": [
    "with open(\"pickle_files/\"+jpid+\".pkl\", \"rb\") as input_file: # loading pickle file\n",
    "    data=pkl.load(input_file)\n",
    "    a=data.predict(test_row)[0] # predicting test_row  to test pickle file\n",
    "    print(a)"
   ]
  },
  {
   "cell_type": "code",
   "execution_count": 586,
   "metadata": {},
   "outputs": [],
   "source": [
    "# required_cols=['StopSeq','WeekDay','Hours']\n",
    "# optional_extras=['Day','Month','Temperature (C)','Visibility (km)','Wind Speed (km/h)']\n",
    "# possible_combos=[]\n",
    "# for i in range(len(optional_extras)+1):\n",
    "#     for subset in permutations(optional_extras, i):\n",
    "#             new=required_cols\n",
    "#             new.append(list(subset))\n",
    "#             print(new)\n",
    "# #             if new not in possible_combos:\n",
    "# #                 possible_combos.append(new)\n",
    "# # combo_accuracy={}\n",
    "# # for combo in possible_combos:\n",
    "#     print(combo)\n",
    "# # train_test_coeffs={}\n",
    "# # test_sizes=[.05,.1,.15,.2,.25,.3,.35,.4,.45,.5,.55,.6,.65,.7,.75,.8,.85,.9,.95]\n",
    "# # for size in test_sizes:\n",
    "# #     train, test = train_test_split(df, test_size = size)\n",
    "\n",
    "# #     model_scores={}\n",
    "    \n",
    "# #     X = df[combo]\n",
    "# #     y = df['Cumulative Time Taken']\n",
    "    \n",
    "# # #     X_test = test[['StopSeq','WeekDay','Hours','Day','Month','Temperature (C)','Visibility (km)','Wind Speed (km/h)']]\n",
    "# # #     y_test = test['Cumulative Time Taken']\n",
    "    \n",
    "# #     ols=linear_model.LinearRegression()\n",
    "    \n",
    "# #     model=ols.fit(X,y)\n",
    "    \n",
    "# #     combo_accuracy[combo]=model.score(X,y)\n",
    "    \n",
    "# #     train_test_model_scores[str(1-size)+\"/\"+str(size)]=model.score(X_test, y_test)\n",
    "# #     train_test_coeffs[str(1-size)+\"/\"+str(size)]=model.coef_"
   ]
  },
  {
   "cell_type": "code",
   "execution_count": 394,
   "metadata": {},
   "outputs": [],
   "source": [
    "# for key in  train_test_model_scores:\n",
    "#     print(train_test_model_scores[key])\n",
    "    \n",
    "# for key in train_test_coeffs:\n",
    "#     print(train_test_coeffs[key])"
   ]
  },
  {
   "cell_type": "markdown",
   "metadata": {},
   "source": [
    "### 70/30 Train/Test Split"
   ]
  },
  {
   "cell_type": "code",
   "execution_count": 1060,
   "metadata": {
    "collapsed": true
   },
   "outputs": [],
   "source": [
    "train, test = train_test_split(df, test_size = 0.3)"
   ]
  },
  {
   "cell_type": "code",
   "execution_count": 1061,
   "metadata": {},
   "outputs": [],
   "source": [
    "X_train = train[['StopSeq','WeekDay','Hours']]\n",
    "y_train = train['Cumulative Time Taken']\n",
    "\n",
    "X_test = test[['StopSeq','WeekDay','Hours']]\n",
    "y_test = test['Cumulative Time Taken']"
   ]
  },
  {
   "cell_type": "code",
   "execution_count": 1062,
   "metadata": {
    "collapsed": true
   },
   "outputs": [],
   "source": [
    "ols=linear_model.LinearRegression()"
   ]
  },
  {
   "cell_type": "code",
   "execution_count": 1063,
   "metadata": {},
   "outputs": [],
   "source": [
    "model=ols.fit(X_train,y_train)"
   ]
  },
  {
   "cell_type": "code",
   "execution_count": 1064,
   "metadata": {},
   "outputs": [
    {
     "data": {
      "text/plain": [
       "array([ 65.37253008, -12.82521699,   4.03676819])"
      ]
     },
     "execution_count": 1064,
     "metadata": {},
     "output_type": "execute_result"
    }
   ],
   "source": [
    "model.coef_"
   ]
  },
  {
   "cell_type": "code",
   "execution_count": 1065,
   "metadata": {},
   "outputs": [
    {
     "name": "stdout",
     "output_type": "stream",
     "text": [
      "0.905924239925\n"
     ]
    }
   ],
   "source": [
    "print(model.score(X_test, y_test))"
   ]
  },
  {
   "cell_type": "code",
   "execution_count": 1074,
   "metadata": {},
   "outputs": [
    {
     "data": {
      "text/plain": [
       "array([ 1568.61909654])"
      ]
     },
     "execution_count": 1074,
     "metadata": {},
     "output_type": "execute_result"
    }
   ],
   "source": [
    "model.predict(please)"
   ]
  },
  {
   "cell_type": "code",
   "execution_count": 401,
   "metadata": {},
   "outputs": [],
   "source": [
    "# results=model.predict(X_test)\n",
    "# a=pd.DataFrame({'Actual':y_test,'Result':results,'Error':y_test-results})\n",
    "# a=a[['Actual','Result','Error']]\n",
    "# print(np.mean(a['Error']))\n",
    "# a"
   ]
  },
  {
   "cell_type": "markdown",
   "metadata": {},
   "source": [
    "### 80/20 Train/Test Split"
   ]
  },
  {
   "cell_type": "code",
   "execution_count": 402,
   "metadata": {
    "collapsed": true
   },
   "outputs": [],
   "source": [
    "# train, test = train_test_split(df, test_size = 0.2)"
   ]
  },
  {
   "cell_type": "code",
   "execution_count": 403,
   "metadata": {
    "collapsed": true
   },
   "outputs": [],
   "source": [
    "# X_train = train[['StopSeq','WeekDay','Hours','Day','Month','Temperature (C)','Visibility (km)','Wind Speed (km/h)']]\n",
    "# y_train = train['Cumulative Time Taken']\n",
    "\n",
    "# X_test = test[['StopSeq','WeekDay','Hours','Day','Month','Temperature (C)','Visibility (km)','Wind Speed (km/h)']]\n",
    "# y_test = test['Cumulative Time Taken']"
   ]
  },
  {
   "cell_type": "code",
   "execution_count": 404,
   "metadata": {
    "collapsed": true
   },
   "outputs": [],
   "source": [
    "# ols=linear_model.LinearRegression()"
   ]
  },
  {
   "cell_type": "code",
   "execution_count": 405,
   "metadata": {
    "collapsed": true
   },
   "outputs": [],
   "source": [
    "# model=ols.fit(X_train,y_train)"
   ]
  },
  {
   "cell_type": "code",
   "execution_count": 406,
   "metadata": {},
   "outputs": [],
   "source": [
    "# model.score(X_test, y_test)"
   ]
  },
  {
   "cell_type": "code",
   "execution_count": 407,
   "metadata": {},
   "outputs": [],
   "source": [
    "# results=model.predict(X_test)\n",
    "# a=pd.DataFrame({'Actual':y_test,'Result':results,'Error':y_test-results})\n",
    "# a=a[['Actual','Result','Error']]\n",
    "# print(np.mean(a['Error']))\n",
    "# a"
   ]
  },
  {
   "cell_type": "markdown",
   "metadata": {},
   "source": [
    "### 60/40 Train/Test Split"
   ]
  },
  {
   "cell_type": "code",
   "execution_count": 408,
   "metadata": {
    "collapsed": true
   },
   "outputs": [],
   "source": [
    "# train, test = train_test_split(df, test_size = 0.4)"
   ]
  },
  {
   "cell_type": "code",
   "execution_count": 409,
   "metadata": {
    "collapsed": true
   },
   "outputs": [],
   "source": [
    "# X_train = train[['StopSeq','WeekDay','Hours','Day','Month','Temperature (C)','Visibility (km)','Wind Speed (km/h)']]\n",
    "# y_train = train['Cumulative Time Taken']\n",
    "\n",
    "# X_test = test[['StopSeq','WeekDay','Hours','Day','Month','Temperature (C)','Visibility (km)','Wind Speed (km/h)']]\n",
    "# y_test = test['Cumulative Time Taken']"
   ]
  },
  {
   "cell_type": "code",
   "execution_count": 410,
   "metadata": {
    "collapsed": true
   },
   "outputs": [],
   "source": [
    "# ols=linear_model.LinearRegression()"
   ]
  },
  {
   "cell_type": "code",
   "execution_count": 411,
   "metadata": {
    "collapsed": true
   },
   "outputs": [],
   "source": [
    "# model=ols.fit(X_train,y_train)"
   ]
  },
  {
   "cell_type": "code",
   "execution_count": 412,
   "metadata": {},
   "outputs": [],
   "source": [
    "# model.score(X_test, y_test)"
   ]
  },
  {
   "cell_type": "code",
   "execution_count": 413,
   "metadata": {},
   "outputs": [],
   "source": [
    "# results=model.predict(X_test)\n",
    "# a=pd.DataFrame({'Actual':y_test,'Result':results,'Error':y_test-results})\n",
    "# a=a[['Actual','Result','Error']]\n",
    "# print(np.mean(a['Error']))\n",
    "# a"
   ]
  },
  {
   "cell_type": "code",
   "execution_count": 847,
   "metadata": {},
   "outputs": [
    {
     "name": "stdout",
     "output_type": "stream",
     "text": [
      "1235.94204984\n",
      "1035.58245631\n"
     ]
    }
   ],
   "source": [
    "x=pd.DataFrame({'StopSeq':[0],'WeekDay':[0],'Hours':[10]})\n",
    "y=pd.DataFrame({'StopSeq':[50],'WeekDay':[0],'Hours':[10]})\n",
    "with open(\"pickle_files/00040001.pkl\", \"rb\") as input_file: # loading pickle file\n",
    "    data=pkl.load(input_file)\n",
    "    a=data.predict(x)[0] # predicting test_row  to test pickle file\n",
    "    print(a)\n",
    "    b=data.predict(y)[0]\n",
    "    print(b)"
   ]
  },
  {
   "cell_type": "code",
   "execution_count": null,
   "metadata": {
    "collapsed": true
   },
   "outputs": [],
   "source": []
  }
 ],
 "metadata": {
  "kernelspec": {
   "display_name": "Python 3",
   "language": "python",
   "name": "python3"
  },
  "language_info": {
   "codemirror_mode": {
    "name": "ipython",
    "version": 3
   },
   "file_extension": ".py",
   "mimetype": "text/x-python",
   "name": "python",
   "nbconvert_exporter": "python",
   "pygments_lexer": "ipython3",
   "version": "3.6.1"
  }
 },
 "nbformat": 4,
 "nbformat_minor": 2
}
